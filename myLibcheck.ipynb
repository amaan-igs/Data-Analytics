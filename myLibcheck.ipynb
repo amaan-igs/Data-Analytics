{
 "cells": [
  {
   "cell_type": "markdown",
   "id": "798085f1-aabb-4d60-bc58-b4816d86c116",
   "metadata": {},
   "source": [
    "### Created a Cutsom Library to import Methods directly for Practice  "
   ]
  },
  {
   "cell_type": "code",
   "execution_count": 3,
   "id": "ce5efabb-f9eb-40d8-ab3d-0bc1a943dbc3",
   "metadata": {},
   "outputs": [],
   "source": [
    "import MyLib as lib"
   ]
  },
  {
   "cell_type": "code",
   "execution_count": 11,
   "id": "f4b9a0cc-d7a5-4085-8c71-9460d3c6e3de",
   "metadata": {},
   "outputs": [
    {
     "name": "stdout",
     "output_type": "stream",
     "text": [
      "20\n"
     ]
    }
   ],
   "source": [
    "mLst = [2,3,4,5,6]\n",
    "out = lib.Total(mLst)\n",
    "print(out)"
   ]
  },
  {
   "cell_type": "code",
   "execution_count": 13,
   "id": "b9779d5e-6d82-4d78-9175-1dcb85292554",
   "metadata": {},
   "outputs": [
    {
     "name": "stdout",
     "output_type": "stream",
     "text": [
      "2\n"
     ]
    }
   ],
   "source": [
    "mini = lib.Min(mLst)\n",
    "print(mini)"
   ]
  },
  {
   "cell_type": "code",
   "execution_count": 17,
   "id": "ef8657c0-50cf-4cec-9658-b6003e98680d",
   "metadata": {},
   "outputs": [
    {
     "name": "stdout",
     "output_type": "stream",
     "text": [
      "6\n"
     ]
    }
   ],
   "source": [
    "mini = lib.Max(mLst)\n",
    "print(mini)"
   ]
  },
  {
   "cell_type": "code",
   "execution_count": 31,
   "id": "09bfb18b-d1e8-4d45-9e60-ba7fb1f7640f",
   "metadata": {},
   "outputs": [
    {
     "name": "stdout",
     "output_type": "stream",
     "text": [
      "-40.0\n"
     ]
    }
   ],
   "source": [
    "out = lib.f2c(-40)\n",
    "print(out)"
   ]
  },
  {
   "cell_type": "code",
   "execution_count": 39,
   "id": "744a2ed1-db95-4b3f-9438-3c464cf60c7e",
   "metadata": {},
   "outputs": [
    {
     "data": {
      "text/plain": [
       "['Max',\n",
       " 'Min',\n",
       " 'Total',\n",
       " '__builtins__',\n",
       " '__cached__',\n",
       " '__doc__',\n",
       " '__file__',\n",
       " '__loader__',\n",
       " '__name__',\n",
       " '__package__',\n",
       " '__spec__',\n",
       " 'f2c']"
      ]
     },
     "execution_count": 39,
     "metadata": {},
     "output_type": "execute_result"
    }
   ],
   "source": [
    "dir(lib)"
   ]
  },
  {
   "cell_type": "code",
   "execution_count": null,
   "id": "44ee4f77-df41-4d4d-96e9-b9061bd9dcca",
   "metadata": {},
   "outputs": [],
   "source": []
  }
 ],
 "metadata": {
  "kernelspec": {
   "display_name": "Python 3 (ipykernel)",
   "language": "python",
   "name": "python3"
  },
  "language_info": {
   "codemirror_mode": {
    "name": "ipython",
    "version": 3
   },
   "file_extension": ".py",
   "mimetype": "text/x-python",
   "name": "python",
   "nbconvert_exporter": "python",
   "pygments_lexer": "ipython3",
   "version": "3.12.4"
  }
 },
 "nbformat": 4,
 "nbformat_minor": 5
}
