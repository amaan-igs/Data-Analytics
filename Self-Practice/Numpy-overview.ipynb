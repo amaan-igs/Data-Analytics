{
 "cells": [
  {
   "cell_type": "markdown",
   "id": "f27776f4-f10e-46a8-9670-ed252db64cb9",
   "metadata": {},
   "source": [
    "<img src=\"https://user-images.githubusercontent.com/7065401/39118381-910eb0c2-46e9-11e8-81f1-a5b897401c23.jpeg\"\n",
    "    style=\"width:300px; float: right; margin: 0 40px 40px 40px;\"></img>\n",
    "\n",
    "# Numpy: Numeric computing library\n",
    "\n",
    "NumPy (Numerical Python) is one of the core packages for numerical computing in Python. Pandas, Matplotlib, Statmodels and many other Scientific libraries rely on NumPy.\n",
    "\n",
    "NumPy major contributions are:\n",
    "\n",
    "* Efficient numeric computation with C primitives\n",
    "* Efficient collections with vectorized operations\n",
    "* An integrated and natural Linear Algebra API\n",
    "* A C API for connecting NumPy with libraries written in C, C++, or FORTRAN."
   ]
  },
  {
   "cell_type": "markdown",
   "id": "05adc651-1b03-4051-9292-a7a4ffdf1eed",
   "metadata": {},
   "source": [
    "<img src=\"https://docs.google.com/drawings/d/e/2PACX-1vTkDtKYMUVdpfVb3TTpr_8rrVtpal2dOknUUEOu85wJ1RitzHHf5nsJqz1O0SnTt8BwgJjxXMYXyIqs/pub?w=726&h=396\" />\n"
   ]
  },
  {
   "cell_type": "markdown",
   "id": "af74534a-adda-4939-aa2a-369ddda38052",
   "metadata": {},
   "source": [
    "### Basic Numpy Arrays"
   ]
  },
  {
   "cell_type": "code",
   "execution_count": 4,
   "id": "baebd772-ab17-4967-b435-d8813af3e0d9",
   "metadata": {},
   "outputs": [],
   "source": [
    "import sys\n",
    "import numpy as np"
   ]
  },
  {
   "cell_type": "code",
   "execution_count": 14,
   "id": "3ce3c223-4256-4346-9a8f-fdb037fb779b",
   "metadata": {},
   "outputs": [
    {
     "data": {
      "text/plain": [
       "array([1, 2, 3, 4, 5])"
      ]
     },
     "execution_count": 14,
     "metadata": {},
     "output_type": "execute_result"
    }
   ],
   "source": [
    "np.array([1,2,3,4,5])"
   ]
  },
  {
   "cell_type": "code",
   "execution_count": 180,
   "id": "7e6051d9-9348-48e6-a5b9-ecc8308debdf",
   "metadata": {},
   "outputs": [
    {
     "data": {
      "text/plain": [
       "array([1, 2, 3, 4, 5])"
      ]
     },
     "execution_count": 180,
     "metadata": {},
     "output_type": "execute_result"
    }
   ],
   "source": [
    "a = np.array([1,2,3,4,5])\n",
    "a"
   ]
  },
  {
   "cell_type": "code",
   "execution_count": 104,
   "id": "b5843bb6-32dd-40ba-8ed6-2fd4ba5d35d5",
   "metadata": {},
   "outputs": [
    {
     "data": {
      "text/plain": [
       "array([5, 6, 7, 8, 9])"
      ]
     },
     "execution_count": 104,
     "metadata": {},
     "output_type": "execute_result"
    }
   ],
   "source": [
    "b = np.array([5,6,7,8,9])\n",
    "b"
   ]
  },
  {
   "cell_type": "code",
   "execution_count": 106,
   "id": "b84c8c4e-4d07-4941-b8f4-6bc5d37c5944",
   "metadata": {},
   "outputs": [
    {
     "data": {
      "text/plain": [
       "(4, 5)"
      ]
     },
     "execution_count": 106,
     "metadata": {},
     "output_type": "execute_result"
    }
   ],
   "source": [
    "a[3],a[4]"
   ]
  },
  {
   "cell_type": "code",
   "execution_count": 108,
   "id": "6205214d-eced-448e-b37a-cf3916cb2665",
   "metadata": {},
   "outputs": [
    {
     "data": {
      "text/plain": [
       "(5, 9, 8)"
      ]
     },
     "execution_count": 108,
     "metadata": {},
     "output_type": "execute_result"
    }
   ],
   "source": [
    "b[0],b[-1],b[-2] # - reverse array and index to last on -1"
   ]
  },
  {
   "cell_type": "code",
   "execution_count": 110,
   "id": "c1559826-d880-4445-b0f5-0339cb13cebe",
   "metadata": {},
   "outputs": [
    {
     "data": {
      "text/plain": [
       "array([5, 6, 7])"
      ]
     },
     "execution_count": 110,
     "metadata": {},
     "output_type": "execute_result"
    }
   ],
   "source": [
    "b[[0,1,2]]"
   ]
  },
  {
   "cell_type": "markdown",
   "id": "865c9e63-1757-46d6-93e9-f303c9195d24",
   "metadata": {},
   "source": [
    "### Array Types"
   ]
  },
  {
   "cell_type": "code",
   "execution_count": 113,
   "id": "627f9c00-40cc-4726-80d2-a27d00a7a405",
   "metadata": {},
   "outputs": [
    {
     "data": {
      "text/plain": [
       "dtype('int32')"
      ]
     },
     "execution_count": 113,
     "metadata": {},
     "output_type": "execute_result"
    }
   ],
   "source": [
    "a.dtype"
   ]
  },
  {
   "cell_type": "code",
   "execution_count": 118,
   "id": "4dffa14c-fb22-4b47-acd3-b30c196387e3",
   "metadata": {},
   "outputs": [
    {
     "data": {
      "text/plain": [
       "dtype('float64')"
      ]
     },
     "execution_count": 118,
     "metadata": {},
     "output_type": "execute_result"
    }
   ],
   "source": [
    "c = np.array([1.0,2.5,5.0,7.5,10.0])\n",
    "c.dtype"
   ]
  },
  {
   "cell_type": "code",
   "execution_count": 157,
   "id": "fcde1f35-ceb8-44f1-9b5a-35f5f4939d7e",
   "metadata": {},
   "outputs": [
    {
     "data": {
      "text/plain": [
       "array([  1,   2,   3,   4, 127], dtype=int8)"
      ]
     },
     "execution_count": 157,
     "metadata": {},
     "output_type": "execute_result"
    }
   ],
   "source": [
    "d = np.array([1,2,3,4,127], dtype=np.int8) \n",
    "#int 8 bits wont store more than 127\n",
    "d"
   ]
  },
  {
   "cell_type": "markdown",
   "id": "47a6403f-b287-4125-b215-1082046a233c",
   "metadata": {},
   "source": [
    "### Dimensions and shapes"
   ]
  },
  {
   "cell_type": "code",
   "execution_count": 166,
   "id": "66ea7957-4fd1-4628-9367-87fe20b9356f",
   "metadata": {},
   "outputs": [
    {
     "data": {
      "text/plain": [
       "(2, 3)"
      ]
     },
     "execution_count": 166,
     "metadata": {},
     "output_type": "execute_result"
    }
   ],
   "source": [
    "# Matricies and Shapes\n",
    "A = np.array([\n",
    "    [1,2,3],\n",
    "    [4,5,6]\n",
    "])\n",
    "\n",
    "A.shape \n",
    "# 2 x 3 matrice array 2 row 3 columns "
   ]
  },
  {
   "cell_type": "raw",
   "id": "3074d765-ef09-41e1-89bb-fce20a4ee935",
   "metadata": {},
   "source": [
    "The ndim attribute in NumPy is used to determine the \"number of dimensions\" (also known as axes) of an array.\n",
    "If ndim returns 1, the array is a 1D array (a vector).\n",
    "If ndim returns 2, the array is a 2D array (a matrix).\n",
    "If ndim returns 3, the array is a 3D array, and so on."
   ]
  },
  {
   "cell_type": "code",
   "execution_count": 170,
   "id": "b7e95eae-eab7-4474-94dd-8f20d6e3fcc8",
   "metadata": {},
   "outputs": [
    {
     "data": {
      "text/plain": [
       "2"
      ]
     },
     "execution_count": 170,
     "metadata": {},
     "output_type": "execute_result"
    }
   ],
   "source": [
    "A.ndim # 2D Array"
   ]
  },
  {
   "cell_type": "code",
   "execution_count": 176,
   "id": "3a020564-a6d6-4ab9-a3d9-728ab3bece72",
   "metadata": {},
   "outputs": [
    {
     "data": {
      "text/plain": [
       "6"
      ]
     },
     "execution_count": 176,
     "metadata": {},
     "output_type": "execute_result"
    }
   ],
   "source": [
    "A.size # num of vals in array"
   ]
  },
  {
   "cell_type": "code",
   "execution_count": 182,
   "id": "c992cf56-3604-4040-b666-caaedc514aaf",
   "metadata": {},
   "outputs": [
    {
     "data": {
      "text/plain": [
       "array([[[12, 11, 10],\n",
       "        [ 9,  8,  7]],\n",
       "\n",
       "       [[ 6,  5,  4],\n",
       "        [ 3,  2,  1]]])"
      ]
     },
     "execution_count": 182,
     "metadata": {},
     "output_type": "execute_result"
    }
   ],
   "source": [
    "B = np.array([\n",
    "    [\n",
    "        [12, 11, 10],\n",
    "        [9, 8, 7],\n",
    "    ],\n",
    "    [\n",
    "        [6, 5, 4],\n",
    "        [3, 2, 1]\n",
    "    ]\n",
    "])\n",
    "B"
   ]
  },
  {
   "cell_type": "raw",
   "id": "1f478b7c-ae42-4ead-934b-370c4541981a",
   "metadata": {},
   "source": [
    "Structure:\n",
    "The array B has 2 layers.\n",
    "Each layer contains 2 rows.\n",
    "Each row contains 3 elements.\n",
    "Dimensions:\n",
    "Since B is a 3D array, B.ndim would return 3.\n",
    "The shape of the array B would be (2, 2, 3), which means 2 layers, each containing 2 rows and 3 columns."
   ]
  },
  {
   "cell_type": "code",
   "execution_count": 198,
   "id": "3e048f3d-8732-4a32-90e0-8eeb9240151c",
   "metadata": {},
   "outputs": [
    {
     "data": {
      "text/plain": [
       "(2, 2, 3)"
      ]
     },
     "execution_count": 198,
     "metadata": {},
     "output_type": "execute_result"
    }
   ],
   "source": [
    "B.shape"
   ]
  },
  {
   "cell_type": "code",
   "execution_count": 200,
   "id": "dfacb4ce-f9e7-47b2-abef-a656e2c84047",
   "metadata": {},
   "outputs": [
    {
     "data": {
      "text/plain": [
       "3"
      ]
     },
     "execution_count": 200,
     "metadata": {},
     "output_type": "execute_result"
    }
   ],
   "source": [
    "B.ndim # 3D Array"
   ]
  },
  {
   "cell_type": "raw",
   "id": "4b2fd643-c7f0-4ddb-bec8-c456cdd9b4e8",
   "metadata": {},
   "source": [
    "B.size "
   ]
  },
  {
   "cell_type": "code",
   "execution_count": 204,
   "id": "05ac6a62-382d-45fc-ac9f-446a3998b1f8",
   "metadata": {},
   "outputs": [
    {
     "data": {
      "text/plain": [
       "dtype('int32')"
      ]
     },
     "execution_count": 204,
     "metadata": {},
     "output_type": "execute_result"
    }
   ],
   "source": [
    "B.dtype"
   ]
  },
  {
   "cell_type": "raw",
   "id": "e22538ba-99d6-4c88-bb4b-33376b12e8e7",
   "metadata": {},
   "source": [
    "If the shape isn't consistent, it'll just fall back to regular Python objects:"
   ]
  },
  {
   "cell_type": "raw",
   "id": "d5b9e4bd-fb33-4cb2-9425-b72eae41addb",
   "metadata": {},
   "source": [
    "C = np.array([\n",
    "    [\n",
    "        [12, 11, 10],\n",
    "        [9, 8, 7],\n",
    "    ],\n",
    "    [\n",
    "        [6, 5, 4],\n",
    "    ]\n",
    "]) # will give error inconsistent shape"
   ]
  },
  {
   "cell_type": "markdown",
   "id": "8a52dd2f-931d-410b-852f-d7a2728b2c76",
   "metadata": {},
   "source": [
    "### Indexing and Slicing of Matrices"
   ]
  },
  {
   "cell_type": "code",
   "execution_count": 208,
   "id": "848fb2d4-fd00-41c9-a1d1-1769d2af03f0",
   "metadata": {},
   "outputs": [
    {
     "data": {
      "text/plain": [
       "array([[1, 2, 3],\n",
       "       [4, 5, 6],\n",
       "       [7, 8, 9]])"
      ]
     },
     "execution_count": 208,
     "metadata": {},
     "output_type": "execute_result"
    }
   ],
   "source": [
    "A = np.array([\n",
    "#.   0. 1. 2\n",
    "    [1, 2, 3], # 0\n",
    "    [4, 5, 6], # 1\n",
    "    [7, 8, 9]  # 2\n",
    "])\n",
    "A"
   ]
  },
  {
   "cell_type": "code",
   "execution_count": 210,
   "id": "66707967-40d0-4536-a788-1b48f6cdb63e",
   "metadata": {},
   "outputs": [
    {
     "data": {
      "text/plain": [
       "array([4, 5, 6])"
      ]
     },
     "execution_count": 210,
     "metadata": {},
     "output_type": "execute_result"
    }
   ],
   "source": [
    "A[1]"
   ]
  },
  {
   "cell_type": "code",
   "execution_count": 212,
   "id": "827aa2e2-4cec-4221-8beb-e2349b0bd516",
   "metadata": {},
   "outputs": [
    {
     "data": {
      "text/plain": [
       "6"
      ]
     },
     "execution_count": 212,
     "metadata": {},
     "output_type": "execute_result"
    }
   ],
   "source": [
    "A[1][2]"
   ]
  },
  {
   "cell_type": "code",
   "execution_count": 214,
   "id": "8f50594d-70bc-4872-a92f-90e77a32f201",
   "metadata": {},
   "outputs": [
    {
     "data": {
      "text/plain": [
       "6"
      ]
     },
     "execution_count": 214,
     "metadata": {},
     "output_type": "execute_result"
    }
   ],
   "source": [
    "A[1,2]"
   ]
  },
  {
   "cell_type": "code",
   "execution_count": 216,
   "id": "04e38976-9c97-4f39-9fa5-0ea5e79aa839",
   "metadata": {},
   "outputs": [
    {
     "data": {
      "text/plain": [
       "array([[1, 2, 3],\n",
       "       [4, 5, 6]])"
      ]
     },
     "execution_count": 216,
     "metadata": {},
     "output_type": "execute_result"
    }
   ],
   "source": [
    "A[0:2]"
   ]
  },
  {
   "cell_type": "code",
   "execution_count": 218,
   "id": "71ba3281-b097-47cc-b45a-eeaf96df207d",
   "metadata": {},
   "outputs": [
    {
     "data": {
      "text/plain": [
       "array([[1, 2],\n",
       "       [4, 5],\n",
       "       [7, 8]])"
      ]
     },
     "execution_count": 218,
     "metadata": {},
     "output_type": "execute_result"
    }
   ],
   "source": [
    "A[:, :2]"
   ]
  },
  {
   "cell_type": "code",
   "execution_count": 220,
   "id": "362a90df-8931-428b-ad51-7244b132d4f9",
   "metadata": {},
   "outputs": [
    {
     "data": {
      "text/plain": [
       "array([[1, 2],\n",
       "       [4, 5]])"
      ]
     },
     "execution_count": 220,
     "metadata": {},
     "output_type": "execute_result"
    }
   ],
   "source": [
    "A[:2, :2]"
   ]
  },
  {
   "cell_type": "code",
   "execution_count": 222,
   "id": "c4304621-d123-4886-ad5b-dc078a1834bb",
   "metadata": {},
   "outputs": [
    {
     "data": {
      "text/plain": [
       "array([[3],\n",
       "       [6]])"
      ]
     },
     "execution_count": 222,
     "metadata": {},
     "output_type": "execute_result"
    }
   ],
   "source": [
    "A[:2, 2:]"
   ]
  },
  {
   "cell_type": "code",
   "execution_count": 226,
   "id": "1d84d6bb-d7e8-488f-a5cd-553bc3ec62c4",
   "metadata": {},
   "outputs": [
    {
     "data": {
      "text/plain": [
       "array([[ 1,  2,  3],\n",
       "       [10, 10, 10],\n",
       "       [ 7,  8,  9]])"
      ]
     },
     "execution_count": 226,
     "metadata": {},
     "output_type": "execute_result"
    }
   ],
   "source": [
    "A[1] = np.array([10, 10, 10])\n",
    "A"
   ]
  },
  {
   "cell_type": "code",
   "execution_count": 228,
   "id": "32c6e8d0-cf17-4580-b9ba-b6cd1f965b3c",
   "metadata": {},
   "outputs": [
    {
     "data": {
      "text/plain": [
       "array([[ 1,  2,  3],\n",
       "       [10, 10, 10],\n",
       "       [99, 99, 99]])"
      ]
     },
     "execution_count": 228,
     "metadata": {},
     "output_type": "execute_result"
    }
   ],
   "source": [
    "A[2] = 99\n",
    "A"
   ]
  },
  {
   "cell_type": "markdown",
   "id": "3ab86c27-9427-443c-a912-e9e3aab7b5dd",
   "metadata": {},
   "source": [
    "### Summary statistics"
   ]
  },
  {
   "cell_type": "code",
   "execution_count": 233,
   "id": "ae714fdd-e49a-454f-90d8-e07440f2a8af",
   "metadata": {},
   "outputs": [
    {
     "data": {
      "text/plain": [
       "array([1, 2, 3, 4, 5])"
      ]
     },
     "execution_count": 233,
     "metadata": {},
     "output_type": "execute_result"
    }
   ],
   "source": [
    "a # array declared at top"
   ]
  },
  {
   "cell_type": "code",
   "execution_count": 237,
   "id": "a9aa22bc-1138-422f-9d64-eee8d21d30a8",
   "metadata": {},
   "outputs": [
    {
     "data": {
      "text/plain": [
       "15"
      ]
     },
     "execution_count": 237,
     "metadata": {},
     "output_type": "execute_result"
    }
   ],
   "source": [
    "a.sum()"
   ]
  },
  {
   "cell_type": "code",
   "execution_count": 239,
   "id": "81c091c7-f5b6-47d9-9eab-c9996a8a23f6",
   "metadata": {},
   "outputs": [
    {
     "data": {
      "text/plain": [
       "3.0"
      ]
     },
     "execution_count": 239,
     "metadata": {},
     "output_type": "execute_result"
    }
   ],
   "source": [
    "a.mean()"
   ]
  },
  {
   "cell_type": "code",
   "execution_count": 241,
   "id": "aade4a18-cb71-4ece-8ba9-86552f2f27bc",
   "metadata": {},
   "outputs": [
    {
     "data": {
      "text/plain": [
       "2.0"
      ]
     },
     "execution_count": 241,
     "metadata": {},
     "output_type": "execute_result"
    }
   ],
   "source": [
    "a.var()"
   ]
  },
  {
   "cell_type": "code",
   "execution_count": 243,
   "id": "87171d55-253d-4650-a374-241d4ddda6d8",
   "metadata": {},
   "outputs": [
    {
     "data": {
      "text/plain": [
       "1.4142135623730951"
      ]
     },
     "execution_count": 243,
     "metadata": {},
     "output_type": "execute_result"
    }
   ],
   "source": [
    "a.std()"
   ]
  },
  {
   "cell_type": "code",
   "execution_count": 247,
   "id": "cfa3158b-f9bf-4c5b-876c-589d556bd5f3",
   "metadata": {},
   "outputs": [],
   "source": [
    "A = np.array([\n",
    "    [1, 2, 3],\n",
    "    [4, 5, 6],\n",
    "    [7, 8, 9]\n",
    "])"
   ]
  },
  {
   "cell_type": "code",
   "execution_count": 249,
   "id": "b332a84d-c811-4234-9fad-d0b64f49f2af",
   "metadata": {},
   "outputs": [
    {
     "data": {
      "text/plain": [
       "45"
      ]
     },
     "execution_count": 249,
     "metadata": {},
     "output_type": "execute_result"
    }
   ],
   "source": [
    "A.sum()"
   ]
  },
  {
   "cell_type": "code",
   "execution_count": 259,
   "id": "ca642592-e220-4d65-bdae-6fc88fc0bf9c",
   "metadata": {},
   "outputs": [
    {
     "data": {
      "text/plain": [
       "array([12, 15, 18])"
      ]
     },
     "execution_count": 259,
     "metadata": {},
     "output_type": "execute_result"
    }
   ],
   "source": [
    "A.sum(axis=0)\n",
    "# 1+4+7 = 12\n",
    "# 2+5+8 = 15\n",
    "# 7+8+9 = 18"
   ]
  },
  {
   "cell_type": "code",
   "execution_count": 261,
   "id": "17a2feae-3630-4f2f-930a-47a3acb061ca",
   "metadata": {},
   "outputs": [
    {
     "data": {
      "text/plain": [
       "5.0"
      ]
     },
     "execution_count": 261,
     "metadata": {},
     "output_type": "execute_result"
    }
   ],
   "source": [
    "A.mean()"
   ]
  },
  {
   "cell_type": "code",
   "execution_count": 263,
   "id": "c2bb1db4-8c82-48c3-b08b-78cad614afc5",
   "metadata": {},
   "outputs": [
    {
     "data": {
      "text/plain": [
       "6.666666666666667"
      ]
     },
     "execution_count": 263,
     "metadata": {},
     "output_type": "execute_result"
    }
   ],
   "source": [
    "A.var()"
   ]
  },
  {
   "cell_type": "code",
   "execution_count": 265,
   "id": "beed4993-8483-4645-8e07-4c4aac3b859f",
   "metadata": {},
   "outputs": [
    {
     "data": {
      "text/plain": [
       "2.581988897471611"
      ]
     },
     "execution_count": 265,
     "metadata": {},
     "output_type": "execute_result"
    }
   ],
   "source": [
    "A.std()"
   ]
  },
  {
   "cell_type": "markdown",
   "id": "c0a83654-b059-48f5-a98b-e23978165d32",
   "metadata": {},
   "source": [
    "### Boolean arrays\n",
    "_(Also called masks)_"
   ]
  },
  {
   "cell_type": "code",
   "execution_count": 279,
   "id": "9408c93c-eb0d-4c21-bf6c-c5e3b2f0d861",
   "metadata": {},
   "outputs": [
    {
     "data": {
      "text/plain": [
       "array([1, 2, 3, 4])"
      ]
     },
     "execution_count": 279,
     "metadata": {},
     "output_type": "execute_result"
    }
   ],
   "source": [
    "e = np.array([1,2,3,4])\n",
    "e"
   ]
  },
  {
   "cell_type": "code",
   "execution_count": 283,
   "id": "8a21a66a-e6a4-4ff6-a7ae-a483886d9f8d",
   "metadata": {},
   "outputs": [
    {
     "data": {
      "text/plain": [
       "array([0, 1, 2, 3])"
      ]
     },
     "execution_count": 283,
     "metadata": {},
     "output_type": "execute_result"
    }
   ],
   "source": [
    "e = np.arange(4)\n",
    "e"
   ]
  },
  {
   "cell_type": "code",
   "execution_count": 287,
   "id": "758f780b-e9aa-4fdd-9757-e5e6868a4e03",
   "metadata": {},
   "outputs": [
    {
     "data": {
      "text/plain": [
       "(0, 3)"
      ]
     },
     "execution_count": 287,
     "metadata": {},
     "output_type": "execute_result"
    }
   ],
   "source": [
    "e[0], e[-1]"
   ]
  },
  {
   "cell_type": "code",
   "execution_count": 289,
   "id": "fd56b65c-e0dd-40e0-aa01-4afefc99c8d9",
   "metadata": {},
   "outputs": [
    {
     "data": {
      "text/plain": [
       "array([0, 3])"
      ]
     },
     "execution_count": 289,
     "metadata": {},
     "output_type": "execute_result"
    }
   ],
   "source": [
    "e[[0, -1]]"
   ]
  },
  {
   "cell_type": "code",
   "execution_count": 291,
   "id": "79359311-c6be-4f46-873c-a19c68528e44",
   "metadata": {},
   "outputs": [
    {
     "data": {
      "text/plain": [
       "array([0, 3])"
      ]
     },
     "execution_count": 291,
     "metadata": {},
     "output_type": "execute_result"
    }
   ],
   "source": [
    "e[[True, False, False, True]]"
   ]
  },
  {
   "cell_type": "code",
   "execution_count": 295,
   "id": "2043be96-9ac4-4894-917f-a6d125c293e5",
   "metadata": {},
   "outputs": [
    {
     "data": {
      "text/plain": [
       "array([False, False,  True,  True])"
      ]
     },
     "execution_count": 295,
     "metadata": {},
     "output_type": "execute_result"
    }
   ],
   "source": [
    "e >= 2"
   ]
  },
  {
   "cell_type": "code",
   "execution_count": 299,
   "id": "15d41bb7-5b89-4d59-8f8a-513ab83fa62c",
   "metadata": {},
   "outputs": [
    {
     "data": {
      "text/plain": [
       "array([2, 3])"
      ]
     },
     "execution_count": 299,
     "metadata": {},
     "output_type": "execute_result"
    }
   ],
   "source": [
    "e[e >= 2]"
   ]
  },
  {
   "cell_type": "code",
   "execution_count": 305,
   "id": "824a5461-4589-4e81-b182-6b12483a09e5",
   "metadata": {},
   "outputs": [
    {
     "data": {
      "text/plain": [
       "array([0, 1])"
      ]
     },
     "execution_count": 305,
     "metadata": {},
     "output_type": "execute_result"
    }
   ],
   "source": [
    "e[(e == 0) | (e == 1)]"
   ]
  },
  {
   "cell_type": "code",
   "execution_count": 309,
   "id": "1e65cd9d-af38-4fa2-bbd0-41d5d48d7177",
   "metadata": {},
   "outputs": [
    {
     "data": {
      "text/plain": [
       "array([0, 2])"
      ]
     },
     "execution_count": 309,
     "metadata": {},
     "output_type": "execute_result"
    }
   ],
   "source": [
    "e[(e <= 2) & (e % 2 == 0)]"
   ]
  },
  {
   "cell_type": "code",
   "execution_count": null,
   "id": "c0933edf-0751-42d0-aeb5-e5dc70bb199b",
   "metadata": {},
   "outputs": [],
   "source": []
  }
 ],
 "metadata": {
  "kernelspec": {
   "display_name": "Python 3 (ipykernel)",
   "language": "python",
   "name": "python3"
  },
  "language_info": {
   "codemirror_mode": {
    "name": "ipython",
    "version": 3
   },
   "file_extension": ".py",
   "mimetype": "text/x-python",
   "name": "python",
   "nbconvert_exporter": "python",
   "pygments_lexer": "ipython3",
   "version": "3.12.4"
  }
 },
 "nbformat": 4,
 "nbformat_minor": 5
}
