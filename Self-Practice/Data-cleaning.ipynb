{
 "cells": [
  {
   "cell_type": "markdown",
   "id": "69621c46-788e-439c-a1cb-30fd05d22a51",
   "metadata": {},
   "source": [
    "# Handling Missing Data with Pandas"
   ]
  },
  {
   "cell_type": "code",
   "execution_count": 2,
   "id": "91ee1571-9325-4eb0-9dc1-fb475d1cb945",
   "metadata": {},
   "outputs": [],
   "source": [
    "import pandas as pd\n",
    "import numpy as np"
   ]
  },
  {
   "cell_type": "markdown",
   "id": "5828482e-5aa2-4377-8ad5-8ace53a778e1",
   "metadata": {},
   "source": [
    "#### Pandas utility functions\n"
   ]
  },
  {
   "cell_type": "code",
   "execution_count": 5,
   "id": "50f92486-b9d0-4369-be85-e01e1cb32833",
   "metadata": {},
   "outputs": [
    {
     "data": {
      "text/plain": [
       "True"
      ]
     },
     "execution_count": 5,
     "metadata": {},
     "output_type": "execute_result"
    }
   ],
   "source": [
    "pd.isnull(np.nan)"
   ]
  },
  {
   "cell_type": "code",
   "execution_count": 7,
   "id": "37cfaf4b-20e3-453c-9b79-c87b509fb7b5",
   "metadata": {},
   "outputs": [
    {
     "data": {
      "text/plain": [
       "False"
      ]
     },
     "execution_count": 7,
     "metadata": {},
     "output_type": "execute_result"
    }
   ],
   "source": [
    "pd.isnull(1)"
   ]
  },
  {
   "cell_type": "code",
   "execution_count": 9,
   "id": "5820d025-b1f6-4a7a-8620-98492236bd56",
   "metadata": {},
   "outputs": [
    {
     "data": {
      "text/plain": [
       "True"
      ]
     },
     "execution_count": 9,
     "metadata": {},
     "output_type": "execute_result"
    }
   ],
   "source": [
    "pd.isna(np.nan)"
   ]
  },
  {
   "cell_type": "code",
   "execution_count": 13,
   "id": "aa9972f2-2c98-4d03-aa6e-59d60fd91b89",
   "metadata": {},
   "outputs": [
    {
     "data": {
      "text/plain": [
       "False"
      ]
     },
     "execution_count": 13,
     "metadata": {},
     "output_type": "execute_result"
    }
   ],
   "source": [
    "pd.isna(2)"
   ]
  },
  {
   "cell_type": "code",
   "execution_count": 19,
   "id": "7e0834af-4f1d-40ee-a6a0-e13f70c27680",
   "metadata": {},
   "outputs": [
    {
     "data": {
      "text/plain": [
       "False"
      ]
     },
     "execution_count": 19,
     "metadata": {},
     "output_type": "execute_result"
    }
   ],
   "source": [
    "# opposite of above funcs also exists\n",
    "pd.notnull(np.nan)"
   ]
  },
  {
   "cell_type": "code",
   "execution_count": 17,
   "id": "a371d70f-c512-49dd-88cf-6740599c75a3",
   "metadata": {},
   "outputs": [
    {
     "data": {
      "text/plain": [
       "True"
      ]
     },
     "execution_count": 17,
     "metadata": {},
     "output_type": "execute_result"
    }
   ],
   "source": [
    "pd.notnull(1)"
   ]
  },
  {
   "cell_type": "code",
   "execution_count": 21,
   "id": "004f1bfc-b773-44e8-a555-64a12c1fa833",
   "metadata": {},
   "outputs": [
    {
     "data": {
      "text/plain": [
       "False"
      ]
     },
     "execution_count": 21,
     "metadata": {},
     "output_type": "execute_result"
    }
   ],
   "source": [
    "pd.notna(np.nan)"
   ]
  },
  {
   "cell_type": "code",
   "execution_count": 23,
   "id": "3a4e1097-b768-4ff8-a5e6-3009138f4e5b",
   "metadata": {},
   "outputs": [
    {
     "data": {
      "text/plain": [
       "True"
      ]
     },
     "execution_count": 23,
     "metadata": {},
     "output_type": "execute_result"
    }
   ],
   "source": [
    "pd.notna(2)"
   ]
  },
  {
   "cell_type": "code",
   "execution_count": null,
   "id": "129de6b6-9c04-4830-9e00-4a9bb04f3926",
   "metadata": {},
   "outputs": [],
   "source": []
  }
 ],
 "metadata": {
  "kernelspec": {
   "display_name": "Python 3 (ipykernel)",
   "language": "python",
   "name": "python3"
  },
  "language_info": {
   "codemirror_mode": {
    "name": "ipython",
    "version": 3
   },
   "file_extension": ".py",
   "mimetype": "text/x-python",
   "name": "python",
   "nbconvert_exporter": "python",
   "pygments_lexer": "ipython3",
   "version": "3.12.4"
  }
 },
 "nbformat": 4,
 "nbformat_minor": 5
}
