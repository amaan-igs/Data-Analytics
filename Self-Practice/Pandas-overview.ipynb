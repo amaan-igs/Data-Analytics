{
 "cells": [
  {
   "cell_type": "markdown",
   "id": "ad0516a4-12eb-4a15-8bff-53802cb8d3f4",
   "metadata": {},
   "source": [
    "<img src=\"https://user-images.githubusercontent.com/7065401/75165824-badf4680-5701-11ea-9c5b-5475b0a33abf.png\"\n",
    "    style=\"width:300px; float: right; margin: 0 40px 40px 40px;\"></img>\n",
    "\n",
    "# Pandas"
   ]
  },
  {
   "cell_type": "code",
   "execution_count": 4,
   "id": "2afaef11-00c7-43ba-857c-e990eab3f7e1",
   "metadata": {},
   "outputs": [],
   "source": [
    "import pandas as pd\n",
    "import numpy as np"
   ]
  },
  {
   "cell_type": "markdown",
   "id": "cce83217-ba3f-4406-9e4d-1f0a0bbad4e7",
   "metadata": {},
   "source": [
    "## Pandas Series\n",
    "\n",
    "Analyzing [The Group of Seven]. Which is a political formed by Canada, France, Germany, Italy, Japan, the United Kingdom and the United States.Starting by analyzing population, and for that, we'll use a `pandas.Series` object."
   ]
  },
  {
   "cell_type": "code",
   "execution_count": 7,
   "id": "cc6d8b8b-13e6-449a-b90c-9100c14d9a8a",
   "metadata": {},
   "outputs": [
    {
     "data": {
      "text/plain": [
       "0     35.467\n",
       "1     63.951\n",
       "2     80.940\n",
       "3     60.665\n",
       "4    127.061\n",
       "5     64.511\n",
       "6    318.523\n",
       "Name: G7 Population in millions, dtype: float64"
      ]
     },
     "execution_count": 7,
     "metadata": {},
     "output_type": "execute_result"
    }
   ],
   "source": [
    "g7_pop = pd.Series([35.467, 63.951, 80.940, 60.665, 127.061, 64.511, 318.523]) #in mil\n",
    "g7_pop.name = 'G7 Population in millions'\n",
    "g7_pop"
   ]
  },
  {
   "cell_type": "code",
   "execution_count": 9,
   "id": "491b9839-367b-4f8b-835d-a798e5c9deda",
   "metadata": {},
   "outputs": [
    {
     "data": {
      "text/plain": [
       "<NumpyExtensionArray>\n",
       "[35.467, 63.951, 80.94, 60.665, 127.061, 64.511, 318.523]\n",
       "Length: 7, dtype: float64"
      ]
     },
     "execution_count": 9,
     "metadata": {},
     "output_type": "execute_result"
    }
   ],
   "source": [
    "g7_pop.array"
   ]
  },
  {
   "cell_type": "code",
   "execution_count": 11,
   "id": "6f57f625-eb96-4f7e-b2a2-a4fed4b72110",
   "metadata": {},
   "outputs": [
    {
     "data": {
      "text/plain": [
       "numpy.ndarray"
      ]
     },
     "execution_count": 11,
     "metadata": {},
     "output_type": "execute_result"
    }
   ],
   "source": [
    "type(g7_pop.values) #They're actually backed by numpy arrays"
   ]
  },
  {
   "cell_type": "markdown",
   "id": "c39d2d37-9f8c-4233-bd74-0097d785f217",
   "metadata": {},
   "source": [
    "And they _look_ like simple Python lists or Numpy Arrays. But they're actually more similar to Python `dict`s.\n",
    "\n",
    "A Series has an `index`, that's similar to the automatic index assigned to Python's lists:"
   ]
  },
  {
   "cell_type": "code",
   "execution_count": 14,
   "id": "ca4e8796-75a2-4c8a-b50b-603e16fce9a6",
   "metadata": {},
   "outputs": [
    {
     "data": {
      "text/plain": [
       "0     35.467\n",
       "1     63.951\n",
       "2     80.940\n",
       "3     60.665\n",
       "4    127.061\n",
       "5     64.511\n",
       "6    318.523\n",
       "Name: G7 Population in millions, dtype: float64"
      ]
     },
     "execution_count": 14,
     "metadata": {},
     "output_type": "execute_result"
    }
   ],
   "source": [
    "g7_pop"
   ]
  },
  {
   "cell_type": "code",
   "execution_count": 16,
   "id": "a99dd8c2-df08-4ebc-852a-a2b1652ccbca",
   "metadata": {},
   "outputs": [
    {
     "data": {
      "text/plain": [
       "63.951"
      ]
     },
     "execution_count": 16,
     "metadata": {},
     "output_type": "execute_result"
    }
   ],
   "source": [
    "g7_pop[1]"
   ]
  },
  {
   "cell_type": "code",
   "execution_count": 18,
   "id": "738a761c-2702-448c-a3ae-ad077f9a71fe",
   "metadata": {},
   "outputs": [
    {
     "data": {
      "text/plain": [
       "RangeIndex(start=0, stop=7, step=1)"
      ]
     },
     "execution_count": 18,
     "metadata": {},
     "output_type": "execute_result"
    }
   ],
   "source": [
    "g7_pop.index"
   ]
  },
  {
   "cell_type": "code",
   "execution_count": 20,
   "id": "79e2f79f-e455-4c57-8b8d-cf11e398fae0",
   "metadata": {},
   "outputs": [
    {
     "name": "stdout",
     "output_type": "stream",
     "text": [
      "Canada             35.467\n",
      "France             63.951\n",
      "Germany            80.940\n",
      "Italy              60.665\n",
      "Japan             127.061\n",
      "United Kingdom     64.511\n",
      "United States     318.523\n",
      "Name: G7 Population in millions, dtype: float64\n"
     ]
    }
   ],
   "source": [
    "# But, in contrast to lists, we can explicitly define the index:\n",
    "g7_pop.index = [\n",
    "    'Canada',\n",
    "    'France',\n",
    "    'Germany',\n",
    "    'Italy',\n",
    "    'Japan',\n",
    "    'United Kingdom',\n",
    "    'United States',\n",
    "]\n",
    "print(g7_pop)"
   ]
  },
  {
   "cell_type": "code",
   "execution_count": 22,
   "id": "70e0dc06-7e21-4d3d-866e-35d551e824f7",
   "metadata": {},
   "outputs": [
    {
     "data": {
      "text/plain": [
       "Canada             35.467\n",
       "France             63.951\n",
       "Germany            80.940\n",
       "Italy              60.665\n",
       "Japan             127.061\n",
       "United Kingdom     64.511\n",
       "United States     318.523\n",
       "Name: G7 Population in millions, dtype: float64"
      ]
     },
     "execution_count": 22,
     "metadata": {},
     "output_type": "execute_result"
    }
   ],
   "source": [
    "pd.Series({\n",
    "    'Canada': 35.467,\n",
    "    'France': 63.951,\n",
    "    'Germany': 80.94,\n",
    "    'Italy': 60.665,\n",
    "    'Japan': 127.061,\n",
    "    'United Kingdom': 64.511,\n",
    "    'United States': 318.523\n",
    "}, name='G7 Population in millions')"
   ]
  },
  {
   "cell_type": "code",
   "execution_count": 24,
   "id": "efc9e862-9937-42fe-b1f1-c018f15cfb9f",
   "metadata": {},
   "outputs": [
    {
     "data": {
      "text/plain": [
       "Canada             35.467\n",
       "France             63.951\n",
       "Germany            80.940\n",
       "Italy              60.665\n",
       "Japan             127.061\n",
       "United Kingdom     64.511\n",
       "United States     318.523\n",
       "Name: G7 Population in millions, dtype: float64"
      ]
     },
     "execution_count": 24,
     "metadata": {},
     "output_type": "execute_result"
    }
   ],
   "source": [
    "pd.Series(\n",
    "    [35.467, 63.951, 80.94, 60.665, 127.061, 64.511, 318.523],\n",
    "    index=['Canada', 'France', 'Germany', 'Italy', 'Japan', 'United Kingdom',\n",
    "       'United States'],\n",
    "    name='G7 Population in millions')"
   ]
  },
  {
   "cell_type": "markdown",
   "id": "6043aa5f-2403-44fc-8256-9d40f7c9e32b",
   "metadata": {},
   "source": [
    "## Indexing\n",
    "Indexing works similarly to lists and dictionaries, you use the **index** of the element you're looking for:"
   ]
  },
  {
   "cell_type": "code",
   "execution_count": 29,
   "id": "57c0b187-ec85-4809-b997-369e53afa09b",
   "metadata": {},
   "outputs": [
    {
     "data": {
      "text/plain": [
       "Canada             35.467\n",
       "France             63.951\n",
       "Germany            80.940\n",
       "Italy              60.665\n",
       "Japan             127.061\n",
       "United Kingdom     64.511\n",
       "United States     318.523\n",
       "Name: G7 Population in millions, dtype: float64"
      ]
     },
     "execution_count": 29,
     "metadata": {},
     "output_type": "execute_result"
    }
   ],
   "source": [
    "g7_pop"
   ]
  },
  {
   "cell_type": "code",
   "execution_count": 45,
   "id": "8be795b7-5833-4443-b231-7485cf97fd31",
   "metadata": {},
   "outputs": [
    {
     "name": "stdout",
     "output_type": "stream",
     "text": [
      "35.467       60.665\n"
     ]
    }
   ],
   "source": [
    "print(  g7_pop['Canada'],'     ',  g7_pop['Italy']  )"
   ]
  },
  {
   "cell_type": "markdown",
   "id": "c18eee1b-925a-4aaa-b872-d02546a7d697",
   "metadata": {},
   "source": [
    "Numeric positions can also be used, with the `iloc` attribute:"
   ]
  },
  {
   "cell_type": "code",
   "execution_count": 50,
   "id": "69bd29d0-2d3b-4540-92dd-c2762dd7d897",
   "metadata": {},
   "outputs": [
    {
     "data": {
      "text/plain": [
       "35.467"
      ]
     },
     "execution_count": 50,
     "metadata": {},
     "output_type": "execute_result"
    }
   ],
   "source": [
    "g7_pop.iloc[0]"
   ]
  },
  {
   "cell_type": "code",
   "execution_count": 52,
   "id": "02d1b670-e3db-4235-b53b-0374afb55268",
   "metadata": {},
   "outputs": [
    {
     "data": {
      "text/plain": [
       "Italy     60.665\n",
       "France    63.951\n",
       "Name: G7 Population in millions, dtype: float64"
      ]
     },
     "execution_count": 52,
     "metadata": {},
     "output_type": "execute_result"
    }
   ],
   "source": [
    "g7_pop[['Italy', 'France']]"
   ]
  },
  {
   "cell_type": "code",
   "execution_count": 54,
   "id": "5a7aa76e-9077-4645-ac66-def9c22d9ebd",
   "metadata": {},
   "outputs": [
    {
     "data": {
      "text/plain": [
       "Canada    35.467\n",
       "France    63.951\n",
       "Name: G7 Population in millions, dtype: float64"
      ]
     },
     "execution_count": 54,
     "metadata": {},
     "output_type": "execute_result"
    }
   ],
   "source": [
    "g7_pop.iloc[[0, 1]]"
   ]
  },
  {
   "cell_type": "markdown",
   "id": "3ef33c78-5e31-4468-8828-4130e2b30d48",
   "metadata": {},
   "source": [
    "## Conditional selection (boolean arrays)\n",
    "\n",
    "The same boolean array techniques we saw applied to numpy arrays can be used for Pandas `Series`:"
   ]
  },
  {
   "cell_type": "code",
   "execution_count": 59,
   "id": "8e5f0c6b-bd36-4265-a777-c161a2842326",
   "metadata": {},
   "outputs": [
    {
     "data": {
      "text/plain": [
       "Canada             35.467\n",
       "France             63.951\n",
       "Germany            80.940\n",
       "Italy              60.665\n",
       "Japan             127.061\n",
       "United Kingdom     64.511\n",
       "United States     318.523\n",
       "Name: G7 Population in millions, dtype: float64"
      ]
     },
     "execution_count": 59,
     "metadata": {},
     "output_type": "execute_result"
    }
   ],
   "source": [
    "g7_pop"
   ]
  },
  {
   "cell_type": "code",
   "execution_count": 57,
   "id": "cc34cae1-9561-4a9c-8c25-42b360fb512b",
   "metadata": {},
   "outputs": [
    {
     "data": {
      "text/plain": [
       "Canada            False\n",
       "France            False\n",
       "Germany            True\n",
       "Italy             False\n",
       "Japan              True\n",
       "United Kingdom    False\n",
       "United States      True\n",
       "Name: G7 Population in millions, dtype: bool"
      ]
     },
     "execution_count": 57,
     "metadata": {},
     "output_type": "execute_result"
    }
   ],
   "source": [
    "g7_pop > 70"
   ]
  },
  {
   "cell_type": "code",
   "execution_count": 61,
   "id": "9546ab39-0641-4e32-b948-d7f04a523905",
   "metadata": {},
   "outputs": [
    {
     "data": {
      "text/plain": [
       "107.30257142857144"
      ]
     },
     "execution_count": 61,
     "metadata": {},
     "output_type": "execute_result"
    }
   ],
   "source": [
    "g7_pop.mean()"
   ]
  },
  {
   "cell_type": "code",
   "execution_count": 63,
   "id": "7921d871-6ea1-44ad-b64c-085545535c91",
   "metadata": {},
   "outputs": [
    {
     "data": {
      "text/plain": [
       "Japan            127.061\n",
       "United States    318.523\n",
       "Name: G7 Population in millions, dtype: float64"
      ]
     },
     "execution_count": 63,
     "metadata": {},
     "output_type": "execute_result"
    }
   ],
   "source": [
    "g7_pop[g7_pop > g7_pop.mean()]"
   ]
  },
  {
   "cell_type": "code",
   "execution_count": 65,
   "id": "16d4718e-f72f-40c4-927b-905b95c0d928",
   "metadata": {},
   "outputs": [
    {
     "data": {
      "text/plain": [
       "97.24996987121581"
      ]
     },
     "execution_count": 65,
     "metadata": {},
     "output_type": "execute_result"
    }
   ],
   "source": [
    "g7_pop.std()"
   ]
  },
  {
   "cell_type": "code",
   "execution_count": null,
   "id": "4f264d23-438f-43f9-800d-2c9760996fd1",
   "metadata": {},
   "outputs": [],
   "source": []
  }
 ],
 "metadata": {
  "kernelspec": {
   "display_name": "Python 3 (ipykernel)",
   "language": "python",
   "name": "python3"
  },
  "language_info": {
   "codemirror_mode": {
    "name": "ipython",
    "version": 3
   },
   "file_extension": ".py",
   "mimetype": "text/x-python",
   "name": "python",
   "nbconvert_exporter": "python",
   "pygments_lexer": "ipython3",
   "version": "3.12.4"
  }
 },
 "nbformat": 4,
 "nbformat_minor": 5
}
