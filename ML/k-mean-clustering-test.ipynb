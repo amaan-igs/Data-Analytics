{
 "cells": [
  {
   "cell_type": "markdown",
   "id": "c4fb7b84-847e-4fd6-8f84-2a022949a647",
   "metadata": {},
   "source": [
    "# K-MEAN CLUSTERING"
   ]
  },
  {
   "cell_type": "code",
   "execution_count": 281,
   "id": "8f5bf0cb-fea6-4c62-882e-cedb821579cb",
   "metadata": {},
   "outputs": [],
   "source": [
    "import pandas as pd\n",
    "import numpy as np\n",
    "from sklearn.cluster import KMeans\n",
    "from sklearn.metrics import silhouette_score\n",
    "import matplotlib.pyplot as plt\n",
    "import warnings\n",
    "warnings.filterwarnings(\"ignore\")"
   ]
  },
  {
   "cell_type": "code",
   "execution_count": 282,
   "id": "db86501b-0cf9-4946-98d3-263adc826497",
   "metadata": {},
   "outputs": [],
   "source": [
    "df = pd.read_csv('../Datasets/RegData.csv')"
   ]
  },
  {
   "cell_type": "code",
   "execution_count": 283,
   "id": "6124fbc9-643e-4e15-90d7-cbe815008808",
   "metadata": {},
   "outputs": [
    {
     "data": {
      "text/html": [
       "<div>\n",
       "<style scoped>\n",
       "    .dataframe tbody tr th:only-of-type {\n",
       "        vertical-align: middle;\n",
       "    }\n",
       "\n",
       "    .dataframe tbody tr th {\n",
       "        vertical-align: top;\n",
       "    }\n",
       "\n",
       "    .dataframe thead th {\n",
       "        text-align: right;\n",
       "    }\n",
       "</style>\n",
       "<table border=\"1\" class=\"dataframe\">\n",
       "  <thead>\n",
       "    <tr style=\"text-align: right;\">\n",
       "      <th></th>\n",
       "      <th>StID</th>\n",
       "      <th>SAT</th>\n",
       "      <th>GPA</th>\n",
       "    </tr>\n",
       "  </thead>\n",
       "  <tbody>\n",
       "    <tr>\n",
       "      <th>0</th>\n",
       "      <td>101</td>\n",
       "      <td>1355</td>\n",
       "      <td>3.42</td>\n",
       "    </tr>\n",
       "    <tr>\n",
       "      <th>1</th>\n",
       "      <td>102</td>\n",
       "      <td>1391</td>\n",
       "      <td>3.48</td>\n",
       "    </tr>\n",
       "    <tr>\n",
       "      <th>2</th>\n",
       "      <td>103</td>\n",
       "      <td>1170</td>\n",
       "      <td>2.91</td>\n",
       "    </tr>\n",
       "    <tr>\n",
       "      <th>3</th>\n",
       "      <td>104</td>\n",
       "      <td>1357</td>\n",
       "      <td>3.41</td>\n",
       "    </tr>\n",
       "    <tr>\n",
       "      <th>4</th>\n",
       "      <td>105</td>\n",
       "      <td>1326</td>\n",
       "      <td>3.28</td>\n",
       "    </tr>\n",
       "    <tr>\n",
       "      <th>...</th>\n",
       "      <td>...</td>\n",
       "      <td>...</td>\n",
       "      <td>...</td>\n",
       "    </tr>\n",
       "    <tr>\n",
       "      <th>79</th>\n",
       "      <td>193</td>\n",
       "      <td>1365</td>\n",
       "      <td>3.37</td>\n",
       "    </tr>\n",
       "    <tr>\n",
       "      <th>80</th>\n",
       "      <td>195</td>\n",
       "      <td>1479</td>\n",
       "      <td>3.41</td>\n",
       "    </tr>\n",
       "    <tr>\n",
       "      <th>81</th>\n",
       "      <td>196</td>\n",
       "      <td>1324</td>\n",
       "      <td>3.40</td>\n",
       "    </tr>\n",
       "    <tr>\n",
       "      <th>82</th>\n",
       "      <td>197</td>\n",
       "      <td>1294</td>\n",
       "      <td>3.28</td>\n",
       "    </tr>\n",
       "    <tr>\n",
       "      <th>83</th>\n",
       "      <td>198</td>\n",
       "      <td>1379</td>\n",
       "      <td>3.44</td>\n",
       "    </tr>\n",
       "  </tbody>\n",
       "</table>\n",
       "<p>84 rows × 3 columns</p>\n",
       "</div>"
      ],
      "text/plain": [
       "    StID   SAT   GPA\n",
       "0    101  1355  3.42\n",
       "1    102  1391  3.48\n",
       "2    103  1170  2.91\n",
       "3    104  1357  3.41\n",
       "4    105  1326  3.28\n",
       "..   ...   ...   ...\n",
       "79   193  1365  3.37\n",
       "80   195  1479  3.41\n",
       "81   196  1324  3.40\n",
       "82   197  1294  3.28\n",
       "83   198  1379  3.44\n",
       "\n",
       "[84 rows x 3 columns]"
      ]
     },
     "execution_count": 283,
     "metadata": {},
     "output_type": "execute_result"
    }
   ],
   "source": [
    "df"
   ]
  },
  {
   "cell_type": "code",
   "execution_count": 284,
   "id": "cbe4a690-6a92-4aa4-b3a0-377c9ff63856",
   "metadata": {},
   "outputs": [
    {
     "data": {
      "text/plain": [
       "(84, 3)"
      ]
     },
     "execution_count": 284,
     "metadata": {},
     "output_type": "execute_result"
    }
   ],
   "source": [
    "df.shape"
   ]
  },
  {
   "cell_type": "code",
   "execution_count": 285,
   "id": "d0420ba8-6af0-4f36-9bb1-017ead1314ed",
   "metadata": {},
   "outputs": [
    {
     "data": {
      "text/plain": [
       "StID      int64\n",
       "SAT       int64\n",
       "GPA     float64\n",
       "dtype: object"
      ]
     },
     "execution_count": 285,
     "metadata": {},
     "output_type": "execute_result"
    }
   ],
   "source": [
    "df.dtypes"
   ]
  },
  {
   "cell_type": "code",
   "execution_count": 286,
   "id": "1cf8c378-d6ee-4656-a085-31202632cd82",
   "metadata": {},
   "outputs": [
    {
     "data": {
      "text/html": [
       "<div>\n",
       "<style scoped>\n",
       "    .dataframe tbody tr th:only-of-type {\n",
       "        vertical-align: middle;\n",
       "    }\n",
       "\n",
       "    .dataframe tbody tr th {\n",
       "        vertical-align: top;\n",
       "    }\n",
       "\n",
       "    .dataframe thead th {\n",
       "        text-align: right;\n",
       "    }\n",
       "</style>\n",
       "<table border=\"1\" class=\"dataframe\">\n",
       "  <thead>\n",
       "    <tr style=\"text-align: right;\">\n",
       "      <th></th>\n",
       "      <th>SAT</th>\n",
       "      <th>GPA</th>\n",
       "    </tr>\n",
       "  </thead>\n",
       "  <tbody>\n",
       "    <tr>\n",
       "      <th>0</th>\n",
       "      <td>1355</td>\n",
       "      <td>3.42</td>\n",
       "    </tr>\n",
       "    <tr>\n",
       "      <th>1</th>\n",
       "      <td>1391</td>\n",
       "      <td>3.48</td>\n",
       "    </tr>\n",
       "    <tr>\n",
       "      <th>2</th>\n",
       "      <td>1170</td>\n",
       "      <td>2.91</td>\n",
       "    </tr>\n",
       "    <tr>\n",
       "      <th>3</th>\n",
       "      <td>1357</td>\n",
       "      <td>3.41</td>\n",
       "    </tr>\n",
       "    <tr>\n",
       "      <th>4</th>\n",
       "      <td>1326</td>\n",
       "      <td>3.28</td>\n",
       "    </tr>\n",
       "    <tr>\n",
       "      <th>...</th>\n",
       "      <td>...</td>\n",
       "      <td>...</td>\n",
       "    </tr>\n",
       "    <tr>\n",
       "      <th>79</th>\n",
       "      <td>1365</td>\n",
       "      <td>3.37</td>\n",
       "    </tr>\n",
       "    <tr>\n",
       "      <th>80</th>\n",
       "      <td>1479</td>\n",
       "      <td>3.41</td>\n",
       "    </tr>\n",
       "    <tr>\n",
       "      <th>81</th>\n",
       "      <td>1324</td>\n",
       "      <td>3.40</td>\n",
       "    </tr>\n",
       "    <tr>\n",
       "      <th>82</th>\n",
       "      <td>1294</td>\n",
       "      <td>3.28</td>\n",
       "    </tr>\n",
       "    <tr>\n",
       "      <th>83</th>\n",
       "      <td>1379</td>\n",
       "      <td>3.44</td>\n",
       "    </tr>\n",
       "  </tbody>\n",
       "</table>\n",
       "<p>84 rows × 2 columns</p>\n",
       "</div>"
      ],
      "text/plain": [
       "     SAT   GPA\n",
       "0   1355  3.42\n",
       "1   1391  3.48\n",
       "2   1170  2.91\n",
       "3   1357  3.41\n",
       "4   1326  3.28\n",
       "..   ...   ...\n",
       "79  1365  3.37\n",
       "80  1479  3.41\n",
       "81  1324  3.40\n",
       "82  1294  3.28\n",
       "83  1379  3.44\n",
       "\n",
       "[84 rows x 2 columns]"
      ]
     },
     "execution_count": 286,
     "metadata": {},
     "output_type": "execute_result"
    }
   ],
   "source": [
    "data = df[['SAT', 'GPA']]\n",
    "data"
   ]
  },
  {
   "cell_type": "code",
   "execution_count": 287,
   "id": "d32eb02d-6d43-45b6-983d-6233019cb2bc",
   "metadata": {},
   "outputs": [
    {
     "name": "stdout",
     "output_type": "stream",
     "text": [
      "silhouette Score: 0.5788158231251115\n",
      "silhouette Score: 0.5525252212261366\n",
      "silhouette Score: 0.4845434069450053\n",
      "silhouette Score: 0.5471783438976024\n",
      "silhouette Score: 0.5352833761860257\n",
      "silhouette Score: 0.5791081886204023\n",
      "silhouette Score: 0.5516506416491713\n",
      "7 : 0.5791081886204023\n"
     ]
    }
   ],
   "source": [
    "sil_scores = []\n",
    "scre = 0; kn = 2; kmx = 9\n",
    "for k in range(2, kmx):\n",
    "    kmeans = KMeans(n_clusters=k, init= 'k-means++')\n",
    "    labels = kmeans.fit_predict(data)\n",
    "    sil_score = silhouette_score(data, labels)\n",
    "\n",
    "    if scre < sil_score:\n",
    "        scre = sil_score\n",
    "        kn = k\n",
    "\n",
    "    sil_scores.append(sil_score)\n",
    "    print('silhouette Score:', sil_score)\n",
    "\n",
    "print(kn, ':', scre)"
   ]
  },
  {
   "cell_type": "code",
   "execution_count": 288,
   "id": "2c61de46-a514-4fef-aec7-780572ab45e7",
   "metadata": {},
   "outputs": [
    {
     "data": {
      "image/png": "[encoded data removed]",
      "text/plain": [
       "<Figure size 800x400 with 1 Axes>"
      ]
     },
     "metadata": {},
     "output_type": "display_data"
    }
   ],
   "source": [
    "frame = pd.DataFrame({'Cluster': range(2, 9), 'Silhouette Score': sil_scores})\n",
    "plt.figure(figsize=(8, 4))\n",
    "plt.plot(frame['Cluster'], frame['Silhouette Score'], marker='o', color='Purple')\n",
    "plt.xlabel('Number of clusters')\n",
    "plt.ylabel('Silhouette Score');"
   ]
  },
  {
   "cell_type": "code",
   "execution_count": 289,
   "id": "ac3d1a38-c46e-40f4-b148-28eb1ffe782a",
   "metadata": {},
   "outputs": [
    {
     "name": "stdout",
     "output_type": "stream",
     "text": [
      "[4 4 6 4 2 4 3 5 0 3 5 2 2 5 5 3 0 1 0 4 6 4 4 0 4 6 1 3 0 0 0 5 0 2 0 3 1\n",
      " 5 0 3 4 4 5 3 5 4 3 6 0 1 2 4 2 0 6 5 6 3 1 6 5 4 5 0 4 0 5 0 2 2 4 5 5 5\n",
      " 0 6 1 4 1 4 0 2 5 4]\n"
     ]
    },
    {
     "data": {
      "text/plain": [
       "array([[1448.05882353,    3.48294118],\n",
       "       [1221.42857143,    3.09      ],\n",
       "       [1318.        ,    3.42      ],\n",
       "       [1515.66666667,    3.58222222],\n",
       "       [1365.11111111,    3.39055556],\n",
       "       [1274.4375    ,    3.178125  ],\n",
       "       [1171.25      ,    3.        ]])"
      ]
     },
     "execution_count": 289,
     "metadata": {},
     "output_type": "execute_result"
    }
   ],
   "source": [
    "kmns = KMeans(n_clusters=kn, init='k-means++', max_iter = 300, random_state=5)\n",
    "y_kmeans = kmns.fit_predict(data)\n",
    "print(y_kmeans)\n",
    "\n",
    "kmns.cluster_centers_"
   ]
  },
  {
   "cell_type": "code",
   "execution_count": 290,
   "id": "080c2277-937f-4e4e-a9d8-4a89bd7ab494",
   "metadata": {},
   "outputs": [
    {
     "data": {
      "text/plain": [
       "<matplotlib.collections.PathCollection at 0x207ceda7aa0>"
      ]
     },
     "execution_count": 290,
     "metadata": {},
     "output_type": "execute_result"
    },
    {
     "data": {
      "image/png": "[encoded data removed]",
      "text/plain": [
       "<Figure size 640x480 with 1 Axes>"
      ]
     },
     "metadata": {},
     "output_type": "display_data"
    }
   ],
   "source": [
    "plt.scatter(df['SAT'], df['GPA'], c=y_kmeans, cmap='rainbow')"
   ]
  }
 ],
 "metadata": {
  "kernelspec": {
   "display_name": "Python 3 (ipykernel)",
   "language": "python",
   "name": "python3"
  },
  "language_info": {
   "codemirror_mode": {
    "name": "ipython",
    "version": 3
   },
   "file_extension": ".py",
   "mimetype": "text/x-python",
   "name": "python",
   "nbconvert_exporter": "python",
   "pygments_lexer": "ipython3",
   "version": "3.12.4"
  }
 },
 "nbformat": 4,
 "nbformat_minor": 5
}
