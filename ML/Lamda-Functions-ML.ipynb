{
 "cells": [
  {
   "cell_type": "markdown",
   "id": "3cb958ec-6c1e-4507-a60f-9cd167a338ec",
   "metadata": {},
   "source": [
    "# Working with Lambda Functions"
   ]
  },
  {
   "cell_type": "code",
   "execution_count": 2,
   "id": "89aa9e97-108b-4c4a-a035-17753e94a390",
   "metadata": {},
   "outputs": [
    {
     "name": "stdout",
     "output_type": "stream",
     "text": [
      "15\n"
     ]
    }
   ],
   "source": [
    "def add10(a): #a-->input\n",
    "   return a + 10 #--> output\n",
    "x = add10(5)\n",
    "print(x)"
   ]
  },
  {
   "cell_type": "raw",
   "id": "b5f60372-173a-42f0-9292-949eb63fa61a",
   "metadata": {},
   "source": [
    "Lamda INPUT:OUTPUT"
   ]
  },
  {
   "cell_type": "code",
   "execution_count": 8,
   "id": "39b03109-1331-4c44-ae9f-a27b8b119eaf",
   "metadata": {},
   "outputs": [],
   "source": [
    "add10 = lambda a:a +10"
   ]
  },
  {
   "cell_type": "code",
   "execution_count": 10,
   "id": "567043f3-9daa-41ae-966e-1e7f963b026e",
   "metadata": {},
   "outputs": [],
   "source": [
    "x = add10(8)"
   ]
  },
  {
   "cell_type": "code",
   "execution_count": 12,
   "id": "33e9c9bb-1c31-44b3-afa9-546d6ad5331a",
   "metadata": {},
   "outputs": [
    {
     "name": "stdout",
     "output_type": "stream",
     "text": [
      "18\n"
     ]
    }
   ],
   "source": [
    "print(x)"
   ]
  },
  {
   "cell_type": "code",
   "execution_count": 14,
   "id": "3b5a0822-fac7-4f75-a0c9-25a7263b0b25",
   "metadata": {},
   "outputs": [
    {
     "name": "stdout",
     "output_type": "stream",
     "text": [
      "30\n"
     ]
    }
   ],
   "source": [
    "def multiply(a,b):\n",
    "    return a*b\n",
    "\n",
    "x = multiply(5,6)\n",
    "print(x)"
   ]
  },
  {
   "cell_type": "code",
   "execution_count": 16,
   "id": "bfd6b2a7-04ae-40af-8990-f3b58054f488",
   "metadata": {},
   "outputs": [],
   "source": [
    "Multiply= lambda a, b : a*b"
   ]
  },
  {
   "cell_type": "code",
   "execution_count": 18,
   "id": "15b5ca6b-67cb-4723-aebd-c8acfd88e7f7",
   "metadata": {},
   "outputs": [],
   "source": [
    "x =multiply(5,6)"
   ]
  },
  {
   "cell_type": "code",
   "execution_count": 20,
   "id": "a9058749-9230-45d3-84a3-8d69c7c84a98",
   "metadata": {},
   "outputs": [
    {
     "name": "stdout",
     "output_type": "stream",
     "text": [
      "30\n"
     ]
    }
   ],
   "source": [
    "print(x)"
   ]
  },
  {
   "cell_type": "code",
   "execution_count": 22,
   "id": "c31ab74b-4ce9-4433-b9f1-7c94d6d876a1",
   "metadata": {},
   "outputs": [],
   "source": [
    "def even_fn(x):\n",
    "    if x % 2 ==0:\n",
    "        return True\n",
    "    else:\n",
    "        return False"
   ]
  },
  {
   "cell_type": "code",
   "execution_count": 24,
   "id": "1ac4f92c-6703-4705-8de6-39740d9a1a9c",
   "metadata": {},
   "outputs": [
    {
     "name": "stdout",
     "output_type": "stream",
     "text": [
      "True\n"
     ]
    }
   ],
   "source": [
    "print(even_fn(4))"
   ]
  },
  {
   "cell_type": "code",
   "execution_count": 26,
   "id": "f763a260-cd23-4182-8e23-68b9f800a920",
   "metadata": {},
   "outputs": [],
   "source": [
    "even_fn = lambda x : x%2==0"
   ]
  },
  {
   "cell_type": "code",
   "execution_count": 28,
   "id": "477032a7-821f-46f2-b178-94b1551ce603",
   "metadata": {},
   "outputs": [],
   "source": [
    "x = even_fn(4)"
   ]
  },
  {
   "cell_type": "code",
   "execution_count": 30,
   "id": "03f6d21f-6c3d-4bc2-a509-27ad755f5236",
   "metadata": {},
   "outputs": [
    {
     "name": "stdout",
     "output_type": "stream",
     "text": [
      "True\n"
     ]
    }
   ],
   "source": [
    "print(x)"
   ]
  },
  {
   "cell_type": "code",
   "execution_count": 32,
   "id": "651b592b-0bc8-471b-a90e-21269ed2acf4",
   "metadata": {},
   "outputs": [],
   "source": [
    "ListVals =(1,2,3,4,5,6,7,8,9,10)\n",
    "r = list(filter(even_fn,ListVals))"
   ]
  },
  {
   "cell_type": "code",
   "execution_count": 34,
   "id": "c154fe0b-7978-479e-8150-5064ebbb717b",
   "metadata": {},
   "outputs": [
    {
     "name": "stdout",
     "output_type": "stream",
     "text": [
      "[2, 4, 6, 8, 10]\n"
     ]
    }
   ],
   "source": [
    "print(r)"
   ]
  },
  {
   "cell_type": "code",
   "execution_count": null,
   "id": "998a075e-c324-4d5b-b6e4-ec13d2738ada",
   "metadata": {},
   "outputs": [],
   "source": []
  },
  {
   "cell_type": "code",
   "execution_count": null,
   "id": "92365626-81fa-49e9-9979-1e50a5a99d00",
   "metadata": {},
   "outputs": [],
   "source": []
  }
 ],
 "metadata": {
  "kernelspec": {
   "display_name": "Python 3 (ipykernel)",
   "language": "python",
   "name": "python3"
  },
  "language_info": {
   "codemirror_mode": {
    "name": "ipython",
    "version": 3
   },
   "file_extension": ".py",
   "mimetype": "text/x-python",
   "name": "python",
   "nbconvert_exporter": "python",
   "pygments_lexer": "ipython3",
   "version": "3.12.4"
  }
 },
 "nbformat": 4,
 "nbformat_minor": 5
}
