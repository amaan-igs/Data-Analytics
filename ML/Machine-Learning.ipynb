{
 "cells": [
  {
   "cell_type": "markdown",
   "id": "e79052ed-5a19-4b35-94d1-8204dba4e264",
   "metadata": {},
   "source": [
    "## Getting Started with Machine Learning"
   ]
  },
  {
   "cell_type": "raw",
   "id": "1ee1c7a0-b2b6-4bbc-ad2b-0befcccca194",
   "metadata": {},
   "source": [
    "Machine learning (ML) is a type of artificial intelligence (AI) that allows\r\n",
    "software applications to become more accurate at predicting outcomes without\r\n",
    "being explicitly programmed to do so.\r\n",
    "Machine learning algorithms use historical data as input to predict new output\r\n",
    "values.\r\n",
    "Classical machine learning is often categorized by how an algorithm learns to\r\n",
    "become more accurate in its predictions.\r\n",
    "There are four basic approaches:\r\n",
    "• supervised learning,\r\n",
    "• unsupervised learning,\r\n",
    "• semi-supervised learning and\r\n",
    "• reinforcement learning."
   ]
  },
  {
   "cell_type": "raw",
   "id": "002fdc44-3dc3-4fa4-b92d-968a445ce7a7",
   "metadata": {},
   "source": []
  },
  {
   "cell_type": "markdown",
   "id": "5b9b025d-0159-463b-ae78-0db3add7e4b2",
   "metadata": {},
   "source": [
    "### Algorithms:\n",
    "#### ordered set of unambigious instructions to process some tasks"
   ]
  },
  {
   "cell_type": "code",
   "execution_count": null,
   "id": "a8277cf9-a82d-4220-b0eb-0cd9fd1f58a7",
   "metadata": {},
   "outputs": [],
   "source": []
  }
 ],
 "metadata": {
  "kernelspec": {
   "display_name": "Python 3 (ipykernel)",
   "language": "python",
   "name": "python3"
  },
  "language_info": {
   "codemirror_mode": {
    "name": "ipython",
    "version": 3
   },
   "file_extension": ".py",
   "mimetype": "text/x-python",
   "name": "python",
   "nbconvert_exporter": "python",
   "pygments_lexer": "ipython3",
   "version": "3.12.4"
  }
 },
 "nbformat": 4,
 "nbformat_minor": 5
}
