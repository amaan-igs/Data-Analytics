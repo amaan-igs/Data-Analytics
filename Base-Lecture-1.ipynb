{
 "cells": [
  {
   "cell_type": "markdown",
   "id": "a320fa72-3cc0-4c1b-8759-dc993236c5cb",
   "metadata": {},
   "source": [
    "# Base Lecture 1"
   ]
  },
  {
   "cell_type": "code",
   "execution_count": 27,
   "id": "262e86eb-bb13-49b0-9afc-ccbf255da490",
   "metadata": {},
   "outputs": [
    {
     "name": "stdout",
     "output_type": "stream",
     "text": [
      "Python 3.12.4\n"
     ]
    }
   ],
   "source": [
    "!python --version"
   ]
  },
  {
   "cell_type": "code",
   "execution_count": 28,
   "id": "72bcc846-8f8a-4506-94e3-7839c70d06c2",
   "metadata": {},
   "outputs": [
    {
     "name": "stdout",
     "output_type": "stream",
     "text": [
      "8\n"
     ]
    }
   ],
   "source": [
    "print(4+1+3)"
   ]
  },
  {
   "cell_type": "code",
   "execution_count": 29,
   "id": "ffcc958d-6781-4d1f-8ca3-5d1c08a9305f",
   "metadata": {},
   "outputs": [],
   "source": [
    "msg='hehe'"
   ]
  },
  {
   "cell_type": "code",
   "execution_count": 30,
   "id": "1711a313-86dd-435e-9308-9c13760446a2",
   "metadata": {},
   "outputs": [
    {
     "name": "stdout",
     "output_type": "stream",
     "text": [
      "hehe\n"
     ]
    }
   ],
   "source": [
    "print(msg)"
   ]
  },
  {
   "cell_type": "code",
   "execution_count": 31,
   "id": "5f5e0388-e372-482a-87b2-6e1685f40bae",
   "metadata": {},
   "outputs": [
    {
     "data": {
      "text/plain": [
       "str"
      ]
     },
     "execution_count": 31,
     "metadata": {},
     "output_type": "execute_result"
    }
   ],
   "source": [
    "type(msg)"
   ]
  },
  {
   "cell_type": "code",
   "execution_count": 32,
   "id": "2c2a271e-de54-4e16-b267-70088d508154",
   "metadata": {},
   "outputs": [
    {
     "name": "stdout",
     "output_type": "stream",
     "text": [
      "mm7\n"
     ]
    }
   ],
   "source": [
    "print('mm' + '7')"
   ]
  },
  {
   "cell_type": "code",
   "execution_count": 33,
   "id": "7856822d-4514-4ea8-9f97-e07534f4b25d",
   "metadata": {},
   "outputs": [
    {
     "name": "stdout",
     "output_type": "stream",
     "text": [
      "hello-world-3\n",
      "4\n"
     ]
    }
   ],
   "source": [
    "print('hello', end = '-')\n",
    "print('world', end = '-')\n",
    "print('3')\n",
    "print('4')"
   ]
  },
  {
   "cell_type": "code",
   "execution_count": 34,
   "id": "d0728e28-3bb4-4091-ac71-e0ac232a82a4",
   "metadata": {},
   "outputs": [
    {
     "name": "stdout",
     "output_type": "stream",
     "text": [
      "2\n",
      "25\n",
      "2.5\n",
      "1\n"
     ]
    }
   ],
   "source": [
    "a,b = 5,2\n",
    "print(a//b) #quotient\n",
    "print(a**b) #exponent/power\n",
    "print(a/b) #div\n",
    "print(a%b) #remainder/modulus"
   ]
  },
  {
   "cell_type": "code",
   "execution_count": 12,
   "id": "34e63390-ca6f-423a-ab30-3cc127ab6eab",
   "metadata": {},
   "outputs": [
    {
     "name": "stdin",
     "output_type": "stream",
     "text": [
      "Enter name  Amaan'\n"
     ]
    },
    {
     "name": "stdout",
     "output_type": "stream",
     "text": [
      "name is Amaan'\n"
     ]
    }
   ],
   "source": [
    "name = input('Enter name ')\n",
    "print(f'name is {name}')"
   ]
  },
  {
   "cell_type": "code",
   "execution_count": 14,
   "id": "e71160bf-30fc-44cc-b443-112a0ef6a36c",
   "metadata": {},
   "outputs": [
    {
     "name": "stdin",
     "output_type": "stream",
     "text": [
      "Input X :   4\n",
      "Input Y :   5\n"
     ]
    },
    {
     "name": "stdout",
     "output_type": "stream",
     "text": [
      "X is smaller than Y\n",
      "X is not equal to Y\n",
      "X is not equal to Y\n"
     ]
    }
   ],
   "source": [
    "x = int(input(\"Input X :  \"))\n",
    "y = int(input(\"Input Y :  \"))\n",
    "\n",
    "if x < y:\n",
    "    print(\"X is smaller than Y\")\n",
    "elif x > y:\n",
    "    print(\"X is greater than Y\")\n",
    "else:\n",
    "    print(\"X is equal to Y\")\n",
    "    \n",
    "if x > y or x < y:\n",
    "    print(\"X is not equal to Y\")\n",
    "else:\n",
    "    print(\"X is equal to Y\")\n",
    "\n",
    "if x != y:\n",
    "    print(\"X is not equal to Y\")\n",
    "else:\n",
    "    print(\"X is equal to Y\")"
   ]
  },
  {
   "cell_type": "code",
   "execution_count": 58,
   "id": "93ae65c4-40c2-4ffe-90d9-c8901f9ea50c",
   "metadata": {},
   "outputs": [
    {
     "name": "stdin",
     "output_type": "stream",
     "text": [
      "Input marks:  101\n"
     ]
    },
    {
     "name": "stdout",
     "output_type": "stream",
     "text": [
      "Out of Range\n"
     ]
    }
   ],
   "source": [
    "marks = int(input(\"Input marks: \"))\n",
    "\n",
    "if marks >= 90 and marks <= 100:\n",
    "    print(\"A+\")\n",
    "elif marks >= 80 and marks <= 89:\n",
    "    print(\"A\")\n",
    "elif marks >= 70 and marks <= 79:\n",
    "    print(\"B+\")\n",
    "elif marks >= 60 and marks <= 69:\n",
    "    print(\"B-\")\n",
    "elif marks >= 50 and marks <= 59:\n",
    "    print(\"C\")\n",
    "elif marks >= 40 and marks <= 49:\n",
    "    print(\"D\")\n",
    "elif marks <= 101:\n",
    "    print(\"Out of Range\")\n",
    "else:\n",
    "    print(\"Fail\")\n",
    "    "
   ]
  },
  {
   "cell_type": "code",
   "execution_count": 64,
   "id": "a0e4d577-8c9b-4a87-917c-d5f414eb84ee",
   "metadata": {},
   "outputs": [
    {
     "name": "stdin",
     "output_type": "stream",
     "text": [
      "Enter Number  4\n"
     ]
    },
    {
     "name": "stdout",
     "output_type": "stream",
     "text": [
      "+VE even num\n"
     ]
    }
   ],
   "source": [
    "num = int(input('Enter Number '))\n",
    "if num > 0:\n",
    "    if num % 2 == 0:\n",
    "        print('+VE even num')\n",
    "    else:\n",
    "        print('+VE odd num')\n",
    "else: \n",
    "    print('non +VE num')"
   ]
  },
  {
   "cell_type": "code",
   "execution_count": 74,
   "id": "5ae87752-ec72-4a83-99d1-c5bdbabbc3bf",
   "metadata": {},
   "outputs": [
    {
     "name": "stdin",
     "output_type": "stream",
     "text": [
      "Enter NIC:  4210166335512\n"
     ]
    },
    {
     "name": "stdout",
     "output_type": "stream",
     "text": [
      "CNIC Holder is Female\n"
     ]
    }
   ],
   "source": [
    "nic = int(input('Enter NIC: '))\n",
    "\n",
    "if len(str(nic)) == 13:  \n",
    "    if nic % 2 == 0:  \n",
    "        print('CNIC Holder is Female')\n",
    "    else:\n",
    "        print('CNIC Holder is Male')\n",
    "else:\n",
    "    print('NIC invalid')"
   ]
  },
  {
   "cell_type": "code",
   "execution_count": 79,
   "id": "1fe057e3-cab3-4455-963c-9a9422249e8c",
   "metadata": {},
   "outputs": [
    {
     "name": "stdout",
     "output_type": "stream",
     "text": [
      "0\n",
      "1\n",
      "2\n",
      "3\n",
      "4\n"
     ]
    }
   ],
   "source": [
    "for i in range(5):\n",
    "    print(i)"
   ]
  },
  {
   "cell_type": "code",
   "execution_count": 81,
   "id": "f4cb18f4-ae5b-46bc-b6fb-7b7c870d315a",
   "metadata": {},
   "outputs": [
    {
     "name": "stdout",
     "output_type": "stream",
     "text": [
      "apple\n",
      "bannana\n",
      "watermelon\n"
     ]
    }
   ],
   "source": [
    "fruits = ['apple', 'bannana', 'watermelon']\n",
    "for fruit in fruits:\n",
    "    print(fruit)"
   ]
  },
  {
   "cell_type": "code",
   "execution_count": 97,
   "id": "77e9bdf4-e0d8-458b-b38f-6f4a6168fe4f",
   "metadata": {},
   "outputs": [
    {
     "name": "stdin",
     "output_type": "stream",
     "text": [
      "Enter num of table to print 3\n"
     ]
    },
    {
     "name": "stdout",
     "output_type": "stream",
     "text": [
      "3  x  1 =  3\n",
      "3  x  2 =  6\n",
      "3  x  3 =  9\n",
      "3  x  4 =  12\n",
      "3  x  5 =  15\n",
      "3  x  6 =  18\n",
      "3  x  7 =  21\n",
      "3  x  8 =  24\n",
      "3  x  9 =  27\n",
      "3  x  10 =  30\n"
     ]
    }
   ],
   "source": [
    "num=int(input(\"Enter num of table to print\")) \n",
    "for i in range(1,11):\n",
    "    print(num,' x ',i,'= ', i*num  )"
   ]
  },
  {
   "cell_type": "code",
   "execution_count": 102,
   "id": "8d4822fe-ce9d-4e0e-8f4d-5addd32933a8",
   "metadata": {},
   "outputs": [
    {
     "name": "stdin",
     "output_type": "stream",
     "text": [
      "Enter num of table to print 2\n",
      "Enter num to start from 3\n",
      "Enter num to end with 6\n"
     ]
    },
    {
     "name": "stdout",
     "output_type": "stream",
     "text": [
      "2  x  3 =  6\n",
      "2  x  4 =  8\n",
      "2  x  5 =  10\n",
      "2  x  6 =  12\n"
     ]
    }
   ],
   "source": [
    "num=int(input(\"Enter num of table to print\")) \n",
    "num1=int(input(\"Enter num to start from\")) \n",
    "num2=int(input(\"Enter num to end with\")) \n",
    "for i in range(num1,num2+1):\n",
    "    print(num,' x ',i,'= ', i*num  )"
   ]
  },
  {
   "cell_type": "code",
   "execution_count": 17,
   "id": "7be6ec8a-e283-4fe4-b492-937966ded3c4",
   "metadata": {},
   "outputs": [
    {
     "name": "stdout",
     "output_type": "stream",
     "text": [
      "1\n",
      "3\n",
      "5\n"
     ]
    }
   ],
   "source": [
    "for i in range (1,6):\n",
    "    if(i%2!=0):\n",
    "        print(i)\n",
    "    else:\n",
    "        pass"
   ]
  },
  {
   "cell_type": "code",
   "execution_count": 47,
   "id": "a41a6603-3d58-4ba2-8ff2-71ed78548aa7",
   "metadata": {},
   "outputs": [
    {
     "name": "stdout",
     "output_type": "stream",
     "text": [
      "66\n",
      "78\n"
     ]
    }
   ],
   "source": [
    "i = [23,66,41,9,78,33]\n",
    "\n",
    "for e in i:\n",
    "    if(e%2==0):\n",
    "        print(e)"
   ]
  },
  {
   "cell_type": "code",
   "execution_count": 1,
   "id": "27ed8e70-171c-40f5-9748-99f0f388d23f",
   "metadata": {},
   "outputs": [],
   "source": [
    "def Calc(a, b, op):\n",
    "    if op in ['+']:\n",
    "        res = a + b\n",
    "    elif op in ['-']:\n",
    "        res = a - b\n",
    "    return res"
   ]
  },
  {
   "cell_type": "code",
   "execution_count": null,
   "id": "331c1b01-868c-4a6f-871b-8ef503c64d03",
   "metadata": {},
   "outputs": [],
   "source": [
    "n1 = int(input('n1: '))\n",
    "n2 = int(input('n2: '))\n",
    "op = input('ope: ')\n",
    "\n",
    "if op in ['+', '-']:\n",
    "    c = Calc(n1, n2, op)\n",
    "    print(c)\n",
    "else:\n",
    "    print('rewrite')\n"
   ]
  },
  {
   "cell_type": "code",
   "execution_count": 56,
   "id": "0720eb7f-d83a-46a5-b0e5-10d67d6860be",
   "metadata": {},
   "outputs": [
    {
     "name": "stdin",
     "output_type": "stream",
     "text": [
      "Enter temperature in Fahrenheit:  -40\n"
     ]
    },
    {
     "name": "stdout",
     "output_type": "stream",
     "text": [
      "-40.0 Fahrenheit is -14.400000 Celsius\n"
     ]
    }
   ],
   "source": [
    "def fahrenheit_to_celsius(fahrenheit):\n",
    "    return (fahrenheit - 32) * 5.0/9.0\n",
    "\n",
    "fahrenheit = float(input(\"Enter temperature in Fahrenheit: \"))\n",
    "celsius = fahrenheit_to_celsius(fahrenheit)\n",
    "print(f\"{fahrenheit} Fahrenheit is {celsius:f} Celsius\")"
   ]
  },
  {
   "cell_type": "code",
   "execution_count": 58,
   "id": "edbd10a4-8087-4702-89cb-8812056726a4",
   "metadata": {},
   "outputs": [
    {
     "name": "stdout",
     "output_type": "stream",
     "text": [
      "2\n"
     ]
    }
   ],
   "source": [
    "def TCount(Lst):\n",
    "    cout = 0\n",
    "    for i in Lst:\n",
    "        cout = cout + i\n",
    "    return cout\n",
    "    \n",
    "def Min(m):\n",
    "    minim = min(m)\n",
    "    return minim\n",
    "\n",
    "def Max(m):\n",
    "    maxim = max(m)\n",
    "    return maxim    \n",
    "\n",
    "\n",
    "mLst = [2,3,4,5,6]\n",
    "\n",
    "mini = Min(mLst)\n",
    "print(mini)"
   ]
  },
  {
   "cell_type": "code",
   "execution_count": 44,
   "id": "56bfecaf-08b5-48a5-ad06-a11f53601aca",
   "metadata": {},
   "outputs": [
    {
     "name": "stdout",
     "output_type": "stream",
     "text": [
      "20\n",
      "2 6\n"
     ]
    }
   ],
   "source": [
    "mLst = [2,3,4,5,6]\n",
    "\n",
    "out = Count(mLst)\n",
    "print(out)\n",
    "m = min(mLst)\n",
    "ma = max(mLst)\n",
    "\n",
    "print(m,ma)"
   ]
  },
  {
   "cell_type": "code",
   "execution_count": 39,
   "id": "203aead1-e0af-42a9-9cf1-dcdc5d8a110c",
   "metadata": {},
   "outputs": [],
   "source": []
  },
  {
   "cell_type": "code",
   "execution_count": null,
   "id": "7c61e396-1b45-4032-b39f-afd72fbf761e",
   "metadata": {},
   "outputs": [],
   "source": []
  },
  {
   "cell_type": "code",
   "execution_count": null,
   "id": "3a364632-0857-4352-b3d7-18258f8be242",
   "metadata": {},
   "outputs": [],
   "source": []
  }
 ],
 "metadata": {
  "kernelspec": {
   "display_name": "Python 3 (ipykernel)",
   "language": "python",
   "name": "python3"
  },
  "language_info": {
   "codemirror_mode": {
    "name": "ipython",
    "version": 3
   },
   "file_extension": ".py",
   "mimetype": "text/x-python",
   "name": "python",
   "nbconvert_exporter": "python",
   "pygments_lexer": "ipython3",
   "version": "3.12.4"
  }
 },
 "nbformat": 4,
 "nbformat_minor": 5
}
