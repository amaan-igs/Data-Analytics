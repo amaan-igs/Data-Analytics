{
 "cells": [
  {
   "cell_type": "markdown",
   "id": "cfb8ccd6-f87a-4ae8-a3e1-5d170d67c1c3",
   "metadata": {},
   "source": [
    "# Test 1"
   ]
  },
  {
   "cell_type": "code",
   "execution_count": null,
   "id": "02f2b1ab-0e5b-4e5d-bd54-7146cba99078",
   "metadata": {},
   "outputs": [],
   "source": [
    "def main():\n",
    "    while True:\n",
    "        total_bill = 0\n",
    "        print(\"Welcome to the Pizza Shop!\")\n",
    "        print(\"1. Small Pizza - $10\")\n",
    "        print(\"2. Medium Pizza - $15\")\n",
    "        print(\"3. Large Pizza - $20\")\n",
    "        print(\"4. Checkout and Exit\")\n",
    "\n",
    "        while True:\n",
    "            choice = input(\"Please select the size of the pizza (1-4): \")\n",
    "\n",
    "            if choice == '4':\n",
    "                print(f\"Your total bill is: ${total_bill}\")\n",
    "                print(\"Thank you for visiting the Pizza Shop. Goodbye!\")\n",
    "                return\n",
    "\n",
    "            if choice not in ['1', '2', '3']:\n",
    "                print(\"Invalid choice. Please select a valid option.\")\n",
    "                continue\n",
    "\n",
    "            size_price = {'1': 10, '2': 15, '3': 20}\n",
    "            size_names = {'1': 'Small', '2': 'Medium', '3': 'Large'}\n",
    "            \n",
    "            pizza_price = size_price[choice]\n",
    "            pizza_size = size_names[choice]\n",
    "            \n",
    "            try:\n",
    "                num_toppings = int(input(\"Enter the number of toppings: \"))\n",
    "                if num_toppings < 0:\n",
    "                    raise ValueError\n",
    "            except ValueError:\n",
    "                print(\"Invalid input. Number of toppings should be a non-negative integer.\")\n",
    "                continue\n",
    "\n",
    "            topping_price = 2 * num_toppings\n",
    "            pizza_total = pizza_price + topping_price\n",
    "            total_bill += pizza_total\n",
    "\n",
    "            print(f\"You ordered a {pizza_size} pizza with {num_toppings} toppings.\")\n",
    "            print(f\"Subtotal for this pizza: ${pizza_total}\")\n",
    "            print(\"-------------------------------\")\n",
    "            print(f\"Current total bill: ${total_bill}\")\n",
    "            print(\"-------------------------------\")\n",
    "\n",
    "if __name__ == \"__main__\":\n",
    "    main()\n"
   ]
  }
 ],
 "metadata": {
  "kernelspec": {
   "display_name": "Python 3 (ipykernel)",
   "language": "python",
   "name": "python3"
  },
  "language_info": {
   "codemirror_mode": {
    "name": "ipython",
    "version": 3
   },
   "file_extension": ".py",
   "mimetype": "text/x-python",
   "name": "python",
   "nbconvert_exporter": "python",
   "pygments_lexer": "ipython3",
   "version": "3.12.4"
  }
 },
 "nbformat": 4,
 "nbformat_minor": 5
}
