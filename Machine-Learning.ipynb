{
 "cells": [
  {
   "cell_type": "markdown",
   "id": "e79052ed-5a19-4b35-94d1-8204dba4e264",
   "metadata": {},
   "source": [
    "## Getting Started with Machine Learning"
   ]
  },
  {
   "cell_type": "raw",
   "id": "1ee1c7a0-b2b6-4bbc-ad2b-0befcccca194",
   "metadata": {},
   "source": [
    "Machine learning (ML) is a type of artificial intelligence (AI) that allows\r\n",
    "software applications to become more accurate at predicting outcomes without\r\n",
    "being explicitly programmed to do so.\r\n",
    "Machine learning algorithms use historical data as input to predict new output\r\n",
    "values.\r\n",
    "Classical machine learning is often categorized by how an algorithm learns to\r\n",
    "become more accurate in its predictions.\r\n",
    "There are four basic approaches:\r\n",
    "• supervised learning,\r\n",
    "• unsupervised learning,\r\n",
    "• semi-supervised learning and\r\n",
    "• reinforcement learning."
   ]
  },
  {
   "cell_type": "markdown",
   "id": "5b9b025d-0159-463b-ae78-0db3add7e4b2",
   "metadata": {},
   "source": [
    "### Algorithms:\n",
    "#### ordered set of unambigious instructions to process some tasks"
   ]
  },
  {
   "cell_type": "markdown",
   "id": "2acdc20d-acad-42c8-bfe5-448380fd2958",
   "metadata": {},
   "source": [
    "### Classification"
   ]
  },
  {
   "cell_type": "raw",
   "id": "664d14ba-7888-48a4-9182-1e5a71b264d5",
   "metadata": {},
   "source": [
    "Classification is a family of supervised machine learning algorithms that designate input as\n",
    "belonging to one of several pre-defined classes.\n",
    "Classification data is labeled, for example, as spam/non-spam or fraud/non-fraud. Machine\n",
    "learning assigns a label or class to new data.\n",
    "You classify something based on pre-determined features.\n",
    "Features are the “if questions” that you ask.\n",
    "The label is the answer to those questions.\n",
    "In this example, if it walks, swims, and quacks like a duck, then the label is \"duck \"."
   ]
  },
  {
   "cell_type": "code",
   "execution_count": null,
   "id": "a8277cf9-a82d-4220-b0eb-0cd9fd1f58a7",
   "metadata": {},
   "outputs": [],
   "source": []
  }
 ],
 "metadata": {
  "kernelspec": {
   "display_name": "Python 3 (ipykernel)",
   "language": "python",
   "name": "python3"
  },
  "language_info": {
   "codemirror_mode": {
    "name": "ipython",
    "version": 3
   },
   "file_extension": ".py",
   "mimetype": "text/x-python",
   "name": "python",
   "nbconvert_exporter": "python",
   "pygments_lexer": "ipython3",
   "version": "3.12.4"
  }
 },
 "nbformat": 4,
 "nbformat_minor": 5
}
