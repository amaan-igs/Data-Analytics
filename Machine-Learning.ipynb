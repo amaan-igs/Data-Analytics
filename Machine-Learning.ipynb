{
 "cells": [
  {
   "cell_type": "markdown",
   "id": "e79052ed-5a19-4b35-94d1-8204dba4e264",
   "metadata": {},
   "source": [
    "## Getting Started with Machine Learning"
   ]
  },
  {
   "cell_type": "raw",
   "id": "1ee1c7a0-b2b6-4bbc-ad2b-0befcccca194",
   "metadata": {},
   "source": [
    "Machine learning (ML) is a type of artificial intelligence (AI) that allows\r\n",
    "software applications to become more accurate at predicting outcomes without\r\n",
    "being explicitly programmed to do so.\r\n",
    "Machine learning algorithms use historical data as input to predict new output\r\n",
    "values.\r\n",
    "Classical machine learning is often categorized by how an algorithm learns to\r\n",
    "become more accurate in its predictions.\r\n",
    "There are four basic approaches:\r\n",
    "• supervised learning,\r\n",
    "• unsupervised learning,\r\n",
    "• semi-supervised learning and\r\n",
    "• reinforcement learning."
   ]
  },
  {
   "cell_type": "markdown",
   "id": "5b9b025d-0159-463b-ae78-0db3add7e4b2",
   "metadata": {},
   "source": [
    "### Algorithms:\n",
    "#### ordered set of unambigious instructions to process some tasks"
   ]
  },
  {
   "cell_type": "markdown",
   "id": "2acdc20d-acad-42c8-bfe5-448380fd2958",
   "metadata": {},
   "source": [
    "### Classification"
   ]
  },
  {
   "cell_type": "raw",
   "id": "664d14ba-7888-48a4-9182-1e5a71b264d5",
   "metadata": {},
   "source": [
    "Classification is a family of supervised machine learning algorithms that designate input as\n",
    "belonging to one of several pre-defined classes.\n",
    "Classification data is labeled, for example, as spam/non-spam or fraud/non-fraud. Machine\n",
    "learning assigns a label or class to new data.\n",
    "You classify something based on pre-determined features.\n",
    "Features are the “if questions” that you ask.\n",
    "The label is the answer to those questions.\n",
    "In this example, if it walks, swims, and quacks like a duck, then the label is \"duck \"."
   ]
  },
  {
   "cell_type": "markdown",
   "id": "51262e99-78ff-42d2-bfb2-a5812986d0ef",
   "metadata": {},
   "source": [
    "### Clustering"
   ]
  },
  {
   "cell_type": "raw",
   "id": "95707e21-4213-433b-9721-5dff497ceb60",
   "metadata": {},
   "source": [
    "In clustering, an algorithm groups objects into categories by analyzing\n",
    "similarities between input examples.\n",
    "Clustering uses unsupervised algorithms, which do not have the outputs\n",
    "in advance.\n",
    "Clustering applications include: Grouping of customers, Anomaly\n",
    "detection"
   ]
  },
  {
   "cell_type": "markdown",
   "id": "ff120cee-238b-4782-99c1-e07c1ee424ee",
   "metadata": {},
   "source": [
    "### Machine Learning Process (MLP)"
   ]
  },
  {
   "cell_type": "raw",
   "id": "e9f188f5-7e8c-40cc-8498-c1c2fe478606",
   "metadata": {},
   "source": [
    "1 - Data Collection\n",
    "• The quantity & quality of your data dictate how accurate our model is\n",
    "• The outcome of this step is generally a representation of data (Guo\n",
    "simplifies to specifying a table) which we will use for training\n",
    "• Using pre-collected data.\n",
    "\n",
    "2 - Data Preparation\n",
    "• Wrangle data and prepare it for training\n",
    "• Clean that which may require it (remove duplicates, correct errors, deal\n",
    "with missing values, normalization, data type conversions, etc.)\n",
    "• Randomize data, which erases the effects of the particular order in which\n",
    "we collected and/or otherwise prepared our data\n",
    "• Visualize data to help detect relevant relationships between variables or\n",
    "class imbalances (bias alert!), or perform other exploratory analysis\n",
    "• Split into training and evaluation sets\n",
    "\n",
    "3 - Choose a Model\n",
    "• Different algorithms are for different tasks; choose the right one\n",
    "\n",
    "4 - Train the Model\n",
    "• The goal of training is to answer a question or make a prediction correctly as\n",
    "often as possible\n",
    "• Linear regression example: algorithm would need to learn values for m (or W)\n",
    "and b (x is input, y is output)\n",
    "• Each iteration of process is a training step\n",
    "\n",
    "5 - Evaluate the Model\n",
    "• Uses some metric or combination of metrics to \"measure\" objective performance\n",
    "of model\n",
    "• Test the model against previously unseen data\n",
    "• This unseen data is meant to be somewhat representative of model performance\n",
    "in the real world, but still helps tune the model (as opposed to test data, which\n",
    "does not)\n",
    "• Good train/eval split? 80/20, 70/30, or similar, depending on domain, data\n",
    "availability, dataset particulars, etc.\n",
    "\n",
    "6 - Parameter Tuning\n",
    "• This step refers to hyperparameter tuning.\n",
    "• Tune model parameters for improved performance\n",
    "• Simple model hyperparameters may include: number of training steps,\n",
    "learning rate, initialization values and distribution, etc.\n",
    "\n",
    "7 - Make Predictions\n",
    "• Using further (test set) data which have, until this point, been withheld\n",
    "from the model (and for which class labels are known), are used to test\n",
    "the model; a better approximation of how the model will perform in the\n",
    "real world"
   ]
  },
  {
   "cell_type": "code",
   "execution_count": null,
   "id": "49076727-bc5b-4d57-837c-1e0fd9029cda",
   "metadata": {},
   "outputs": [],
   "source": []
  }
 ],
 "metadata": {
  "kernelspec": {
   "display_name": "Python 3 (ipykernel)",
   "language": "python",
   "name": "python3"
  },
  "language_info": {
   "codemirror_mode": {
    "name": "ipython",
    "version": 3
   },
   "file_extension": ".py",
   "mimetype": "text/x-python",
   "name": "python",
   "nbconvert_exporter": "python",
   "pygments_lexer": "ipython3",
   "version": "3.12.4"
  }
 },
 "nbformat": 4,
 "nbformat_minor": 5
}
